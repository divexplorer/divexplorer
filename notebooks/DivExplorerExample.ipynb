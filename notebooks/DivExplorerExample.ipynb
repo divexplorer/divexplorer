{
 "cells": [
  {
   "cell_type": "markdown",
   "metadata": {},
   "source": [
    "# DivExplorer: Finding Divergent Data Subgroups"
   ]
  },
  {
   "cell_type": "markdown",
   "metadata": {
    "ExecuteTime": {
     "end_time": "2021-06-11T14:57:33.227374Z",
     "start_time": "2021-06-11T14:57:33.204664Z"
    }
   },
   "source": [
    "DivExplorer will find data subgroups that are _divergent_, that is, subgroups that have a different value for a target statistics than the rest of the data. For example, in a dataset of loan applicants, DivExplorer can find subgroups that have a different loan approval rate than the rest of the data.\n",
    "\n",
    "In the simplest case, the target statistics is the average of some numerical field, and DivExplorer will find subgroups that have highest or lowest average for that field. "
   ]
  },
  {
   "cell_type": "markdown",
   "metadata": {},
   "source": [
    "## A census example\n",
    "\n",
    "### An example of a quantitative outcome analysis\n",
    "\n",
    "As a simple example, we apply DivExplorer to a dataset derived from [census data](https://www.census.gov/data/datasets/time-series/demo/cps/cps-asec.html). \n",
    "The dataset contains state of residence, gender, educational achievement, age, and income, and we will find subgroups with lowest and highest average income. \n",
    "The income is our _quantitative outcome_: it is the variable whose average we want to compare between subgroups. "
   ]
  },
  {
   "cell_type": "code",
   "execution_count": 1,
   "metadata": {},
   "outputs": [
    {
     "data": {
      "text/html": [
       "<div>\n",
       "<style scoped>\n",
       "    .dataframe tbody tr th:only-of-type {\n",
       "        vertical-align: middle;\n",
       "    }\n",
       "\n",
       "    .dataframe tbody tr th {\n",
       "        vertical-align: top;\n",
       "    }\n",
       "\n",
       "    .dataframe thead th {\n",
       "        text-align: right;\n",
       "    }\n",
       "</style>\n",
       "<table border=\"1\" class=\"dataframe\">\n",
       "  <thead>\n",
       "    <tr style=\"text-align: right;\">\n",
       "      <th></th>\n",
       "      <th>STATE</th>\n",
       "      <th>SEX</th>\n",
       "      <th>EDUCATION</th>\n",
       "      <th>A_AGE</th>\n",
       "      <th>PTOTVAL</th>\n",
       "    </tr>\n",
       "  </thead>\n",
       "  <tbody>\n",
       "    <tr>\n",
       "      <th>0</th>\n",
       "      <td>maine</td>\n",
       "      <td>Female</td>\n",
       "      <td>High school</td>\n",
       "      <td>66</td>\n",
       "      <td>12120</td>\n",
       "    </tr>\n",
       "    <tr>\n",
       "      <th>1</th>\n",
       "      <td>maine</td>\n",
       "      <td>Female</td>\n",
       "      <td>High school</td>\n",
       "      <td>68</td>\n",
       "      <td>16800</td>\n",
       "    </tr>\n",
       "    <tr>\n",
       "      <th>2</th>\n",
       "      <td>maine</td>\n",
       "      <td>Female</td>\n",
       "      <td>High school</td>\n",
       "      <td>52</td>\n",
       "      <td>8137</td>\n",
       "    </tr>\n",
       "    <tr>\n",
       "      <th>3</th>\n",
       "      <td>maine</td>\n",
       "      <td>Male</td>\n",
       "      <td>Some college but no degree</td>\n",
       "      <td>51</td>\n",
       "      <td>42000</td>\n",
       "    </tr>\n",
       "    <tr>\n",
       "      <th>4</th>\n",
       "      <td>maine</td>\n",
       "      <td>Female</td>\n",
       "      <td>High school</td>\n",
       "      <td>78</td>\n",
       "      <td>14713</td>\n",
       "    </tr>\n",
       "  </tbody>\n",
       "</table>\n",
       "</div>"
      ],
      "text/plain": [
       "   STATE     SEX                   EDUCATION  A_AGE  PTOTVAL\n",
       "0  maine  Female                 High school     66    12120\n",
       "1  maine  Female                 High school     68    16800\n",
       "2  maine  Female                 High school     52     8137\n",
       "3  maine    Male  Some college but no degree     51    42000\n",
       "4  maine  Female                 High school     78    14713"
      ]
     },
     "execution_count": 1,
     "metadata": {},
     "output_type": "execute_result"
    }
   ],
   "source": [
    "import pandas as pd\n",
    "\n",
    "df_census = pd.read_csv('https://raw.githubusercontent.com/divexplorer/divexplorer/main/datasets/census_income.csv')\n",
    "df_census.head()"
   ]
  },
  {
   "cell_type": "markdown",
   "metadata": {},
   "source": [
    "DivExplorer works on discretized data (we published a [study](https://divexplorer.github.io) on how to discretize datasets, and we will soon extend this code with automatic discretization, but for now you have to provide discretized datasets). \n",
    "Using age with one-year resolution may be too fine; let us define an `age_range` column with age discretized in decades. "
   ]
  },
  {
   "cell_type": "code",
   "execution_count": 2,
   "metadata": {},
   "outputs": [
    {
     "data": {
      "text/html": [
       "<div>\n",
       "<style scoped>\n",
       "    .dataframe tbody tr th:only-of-type {\n",
       "        vertical-align: middle;\n",
       "    }\n",
       "\n",
       "    .dataframe tbody tr th {\n",
       "        vertical-align: top;\n",
       "    }\n",
       "\n",
       "    .dataframe thead th {\n",
       "        text-align: right;\n",
       "    }\n",
       "</style>\n",
       "<table border=\"1\" class=\"dataframe\">\n",
       "  <thead>\n",
       "    <tr style=\"text-align: right;\">\n",
       "      <th></th>\n",
       "      <th>STATE</th>\n",
       "      <th>SEX</th>\n",
       "      <th>EDUCATION</th>\n",
       "      <th>A_AGE</th>\n",
       "      <th>PTOTVAL</th>\n",
       "      <th>AGE_RANGE</th>\n",
       "    </tr>\n",
       "  </thead>\n",
       "  <tbody>\n",
       "    <tr>\n",
       "      <th>0</th>\n",
       "      <td>maine</td>\n",
       "      <td>Female</td>\n",
       "      <td>High school</td>\n",
       "      <td>66</td>\n",
       "      <td>12120</td>\n",
       "      <td>60</td>\n",
       "    </tr>\n",
       "    <tr>\n",
       "      <th>1</th>\n",
       "      <td>maine</td>\n",
       "      <td>Female</td>\n",
       "      <td>High school</td>\n",
       "      <td>68</td>\n",
       "      <td>16800</td>\n",
       "      <td>60</td>\n",
       "    </tr>\n",
       "    <tr>\n",
       "      <th>2</th>\n",
       "      <td>maine</td>\n",
       "      <td>Female</td>\n",
       "      <td>High school</td>\n",
       "      <td>52</td>\n",
       "      <td>8137</td>\n",
       "      <td>50</td>\n",
       "    </tr>\n",
       "    <tr>\n",
       "      <th>3</th>\n",
       "      <td>maine</td>\n",
       "      <td>Male</td>\n",
       "      <td>Some college but no degree</td>\n",
       "      <td>51</td>\n",
       "      <td>42000</td>\n",
       "      <td>50</td>\n",
       "    </tr>\n",
       "    <tr>\n",
       "      <th>4</th>\n",
       "      <td>maine</td>\n",
       "      <td>Female</td>\n",
       "      <td>High school</td>\n",
       "      <td>78</td>\n",
       "      <td>14713</td>\n",
       "      <td>70</td>\n",
       "    </tr>\n",
       "  </tbody>\n",
       "</table>\n",
       "</div>"
      ],
      "text/plain": [
       "   STATE     SEX                   EDUCATION  A_AGE  PTOTVAL  AGE_RANGE\n",
       "0  maine  Female                 High school     66    12120         60\n",
       "1  maine  Female                 High school     68    16800         60\n",
       "2  maine  Female                 High school     52     8137         50\n",
       "3  maine    Male  Some college but no degree     51    42000         50\n",
       "4  maine  Female                 High school     78    14713         70"
      ]
     },
     "execution_count": 2,
     "metadata": {},
     "output_type": "execute_result"
    }
   ],
   "source": [
    "df_census[\"AGE_RANGE\"] = df_census.apply(lambda row : 10 * (row[\"A_AGE\"] // 10), axis=1)\n",
    "df_census.head()"
   ]
  },
  {
   "cell_type": "markdown",
   "metadata": {},
   "source": [
    "Great, let's find those subgroups.  Subgroups search is done via the `DivergenceExplorer` class. "
   ]
  },
  {
   "cell_type": "code",
   "execution_count": 3,
   "metadata": {},
   "outputs": [],
   "source": [
    "from divexplorer import DivergenceExplorer\n",
    "\n",
    "fp_diver = DivergenceExplorer(df_census)"
   ]
  },
  {
   "cell_type": "markdown",
   "metadata": {},
   "source": [
    "To find the subgroups, we need to specify: \n",
    "* The column whose average is to be minimized or maximized.  We specify this via the `quantitative_outcomes` parameter.  This is a list of column names whose divergence is of interest. \n",
    "* The _minimum support_ of the search.  This is specified via the `min_support` parameter, and corresponds to the minimum fraction of dataset that must be contained in any returned subgroup.  \n",
    "* The attributes we want to use to define subgroups.  We specify this via the `attributes` parameter.  This is a list of column names whose values will be used to define subgroups. If missing, all columns except outcomes are used. \n",
    "\n",
    "Specifying a minimum support is useful to bound the search, and to ensure that the returned subgroups are not too small and the divergence is statistically significant.\n",
    "A minimum support of 0.001 indicates that subgroups must contain at least 0.1% of the dataset."
   ]
  },
  {
   "cell_type": "code",
   "execution_count": 4,
   "metadata": {},
   "outputs": [
    {
     "data": {
      "text/html": [
       "<div>\n",
       "<style scoped>\n",
       "    .dataframe tbody tr th:only-of-type {\n",
       "        vertical-align: middle;\n",
       "    }\n",
       "\n",
       "    .dataframe tbody tr th {\n",
       "        vertical-align: top;\n",
       "    }\n",
       "\n",
       "    .dataframe thead th {\n",
       "        text-align: right;\n",
       "    }\n",
       "</style>\n",
       "<table border=\"1\" class=\"dataframe\">\n",
       "  <thead>\n",
       "    <tr style=\"text-align: right;\">\n",
       "      <th></th>\n",
       "      <th>support</th>\n",
       "      <th>itemset</th>\n",
       "      <th>PTOTVAL</th>\n",
       "      <th>PTOTVAL_div</th>\n",
       "      <th>PTOTVAL_t</th>\n",
       "      <th>length</th>\n",
       "      <th>support_count</th>\n",
       "    </tr>\n",
       "  </thead>\n",
       "  <tbody>\n",
       "    <tr>\n",
       "      <th>0</th>\n",
       "      <td>0.001163</td>\n",
       "      <td>(SEX=Male, AGE_RANGE=40, EDUCATION=Professional)</td>\n",
       "      <td>246323.841176</td>\n",
       "      <td>204865.234585</td>\n",
       "      <td>11.056944</td>\n",
       "      <td>3</td>\n",
       "      <td>170.0</td>\n",
       "    </tr>\n",
       "    <tr>\n",
       "      <th>1</th>\n",
       "      <td>0.002429</td>\n",
       "      <td>(AGE_RANGE=40, EDUCATION=Professional)</td>\n",
       "      <td>207456.191549</td>\n",
       "      <td>165997.584958</td>\n",
       "      <td>14.157974</td>\n",
       "      <td>2</td>\n",
       "      <td>355.0</td>\n",
       "    </tr>\n",
       "    <tr>\n",
       "      <th>2</th>\n",
       "      <td>0.001759</td>\n",
       "      <td>(AGE_RANGE=50, EDUCATION=Professional)</td>\n",
       "      <td>192899.428016</td>\n",
       "      <td>151440.821424</td>\n",
       "      <td>12.651215</td>\n",
       "      <td>2</td>\n",
       "      <td>257.0</td>\n",
       "    </tr>\n",
       "    <tr>\n",
       "      <th>3</th>\n",
       "      <td>0.001642</td>\n",
       "      <td>(SEX=Male, EDUCATION=Doctorate, AGE_RANGE=50)</td>\n",
       "      <td>186768.900000</td>\n",
       "      <td>145310.293409</td>\n",
       "      <td>12.170476</td>\n",
       "      <td>3</td>\n",
       "      <td>240.0</td>\n",
       "    </tr>\n",
       "    <tr>\n",
       "      <th>4</th>\n",
       "      <td>0.001567</td>\n",
       "      <td>(AGE_RANGE=40, SEX=Male, EDUCATION=Doctorate)</td>\n",
       "      <td>183491.668122</td>\n",
       "      <td>142033.061531</td>\n",
       "      <td>13.633556</td>\n",
       "      <td>3</td>\n",
       "      <td>229.0</td>\n",
       "    </tr>\n",
       "    <tr>\n",
       "      <th>5</th>\n",
       "      <td>0.005413</td>\n",
       "      <td>(SEX=Male, EDUCATION=Professional)</td>\n",
       "      <td>175549.437421</td>\n",
       "      <td>134090.830830</td>\n",
       "      <td>19.951770</td>\n",
       "      <td>2</td>\n",
       "      <td>791.0</td>\n",
       "    </tr>\n",
       "    <tr>\n",
       "      <th>6</th>\n",
       "      <td>0.001266</td>\n",
       "      <td>(SEX=Female, AGE_RANGE=40, EDUCATION=Professio...</td>\n",
       "      <td>171739.972973</td>\n",
       "      <td>130281.366382</td>\n",
       "      <td>9.170170</td>\n",
       "      <td>3</td>\n",
       "      <td>185.0</td>\n",
       "    </tr>\n",
       "    <tr>\n",
       "      <th>7</th>\n",
       "      <td>0.002833</td>\n",
       "      <td>(EDUCATION=Doctorate, AGE_RANGE=50)</td>\n",
       "      <td>168553.306763</td>\n",
       "      <td>127094.700172</td>\n",
       "      <td>15.438620</td>\n",
       "      <td>2</td>\n",
       "      <td>414.0</td>\n",
       "    </tr>\n",
       "    <tr>\n",
       "      <th>8</th>\n",
       "      <td>0.003250</td>\n",
       "      <td>(AGE_RANGE=40, EDUCATION=Doctorate)</td>\n",
       "      <td>160665.410526</td>\n",
       "      <td>119206.803935</td>\n",
       "      <td>18.356290</td>\n",
       "      <td>2</td>\n",
       "      <td>475.0</td>\n",
       "    </tr>\n",
       "    <tr>\n",
       "      <th>9</th>\n",
       "      <td>0.001649</td>\n",
       "      <td>(AGE_RANGE=30, SEX=Male, EDUCATION=Doctorate)</td>\n",
       "      <td>153600.796680</td>\n",
       "      <td>112142.190089</td>\n",
       "      <td>13.254359</td>\n",
       "      <td>3</td>\n",
       "      <td>241.0</td>\n",
       "    </tr>\n",
       "  </tbody>\n",
       "</table>\n",
       "</div>"
      ],
      "text/plain": [
       "    support                                            itemset        PTOTVAL  \\\n",
       "0  0.001163   (SEX=Male, AGE_RANGE=40, EDUCATION=Professional)  246323.841176   \n",
       "1  0.002429             (AGE_RANGE=40, EDUCATION=Professional)  207456.191549   \n",
       "2  0.001759             (AGE_RANGE=50, EDUCATION=Professional)  192899.428016   \n",
       "3  0.001642      (SEX=Male, EDUCATION=Doctorate, AGE_RANGE=50)  186768.900000   \n",
       "4  0.001567      (AGE_RANGE=40, SEX=Male, EDUCATION=Doctorate)  183491.668122   \n",
       "5  0.005413                 (SEX=Male, EDUCATION=Professional)  175549.437421   \n",
       "6  0.001266  (SEX=Female, AGE_RANGE=40, EDUCATION=Professio...  171739.972973   \n",
       "7  0.002833                (EDUCATION=Doctorate, AGE_RANGE=50)  168553.306763   \n",
       "8  0.003250                (AGE_RANGE=40, EDUCATION=Doctorate)  160665.410526   \n",
       "9  0.001649      (AGE_RANGE=30, SEX=Male, EDUCATION=Doctorate)  153600.796680   \n",
       "\n",
       "     PTOTVAL_div  PTOTVAL_t  length  support_count  \n",
       "0  204865.234585  11.056944       3          170.0  \n",
       "1  165997.584958  14.157974       2          355.0  \n",
       "2  151440.821424  12.651215       2          257.0  \n",
       "3  145310.293409  12.170476       3          240.0  \n",
       "4  142033.061531  13.633556       3          229.0  \n",
       "5  134090.830830  19.951770       2          791.0  \n",
       "6  130281.366382   9.170170       3          185.0  \n",
       "7  127094.700172  15.438620       2          414.0  \n",
       "8  119206.803935  18.356290       2          475.0  \n",
       "9  112142.190089  13.254359       3          241.0  "
      ]
     },
     "execution_count": 4,
     "metadata": {},
     "output_type": "execute_result"
    }
   ],
   "source": [
    "subgroups = fp_diver.get_pattern_divergence(\n",
    "    attributes=['SEX', 'EDUCATION', 'AGE_RANGE'],\n",
    "    min_support=0.001, quantitative_outcomes=[\"PTOTVAL\"])\n",
    "subgroups = subgroups.sort_values(by=\"PTOTVAL_div\", ascending=False, ignore_index=True)\n",
    "subgroups.head(10)"
   ]
  },
  {
   "cell_type": "markdown",
   "metadata": {},
   "source": [
    "Let's look at the columns in the result: \n",
    "* The first column is an id that is useful to refer to the subgroup.\n",
    "* `support` is the fraction of the dataset contained in the subgroup.\n",
    "* `itemset` is the set of items (set of parameters) defining the subgroup. \n",
    "* `PTOTVAL` is the average value of the `PTOTVAL` column in the subgroup, that is, for us, the average income in the subgroup. \n",
    "* `PTOTVAL_div` is the difference between the average income in the subgroup and the average income in the dataset.  This is the divergence value, and the column we are interested in.  The larger the divergence value, the more divergent the subgroup.\n",
    "* `PTOTVAL_t` is the t-statistic of the divergence value.  This is useful to assess the statistical significance of the divergence value.  The larger the t-statistic, the more significant the divergence value.\n",
    "* `length` is the number of items in the subgroup.\n",
    "* `support_count` is the number of rows of the original dataframe that belong to the subgroup."
   ]
  },
  {
   "cell_type": "markdown",
   "metadata": {},
   "source": [
    "We see that the most divergent subgroup is (EDUCATION=Professional, SEX=Male, AGE_RANGE=40). This subgroup has an average income of 246,323, which is 204,865 higher than the average income in the dataset.  The t-statistic is 11, which indicates extremely high significance. There are 170 instances (people in original census dataset) in this subgroup. "
   ]
  },
  {
   "cell_type": "code",
   "execution_count": 5,
   "metadata": {},
   "outputs": [
    {
     "data": {
      "text/plain": [
       "frozenset({'AGE_RANGE=40', 'EDUCATION=Professional', 'SEX=Male'})"
      ]
     },
     "execution_count": 5,
     "metadata": {},
     "output_type": "execute_result"
    }
   ],
   "source": [
    "pattern = subgroups['itemset'].iloc[0]\n",
    "pattern"
   ]
  },
  {
   "cell_type": "markdown",
   "metadata": {},
   "source": [
    "Once we have identified this pattern, the obvious question is: which of the three factors, age range, education, or sex, contributes mostly to the difference in income?  To answer this question, we compute the [Shapley value](https://en.wikipedia.org/wiki/Shapley_value) of the attributes in the (EDUCATION=Professional, SEX=Male, AGE_RANGE=40) coalition.  We do this via the help of the `DivergencePatternProcessor` class.  The Shapley value is a measure of the contribution of each attribute to the divergence value.  The higher the Shapley value, the more the attribute contributes to the divergence value.  The Shapley value is normalized, so that the sum of the Shapley values of all attributes is the divergence of the whole subgroup."
   ]
  },
  {
   "cell_type": "code",
   "execution_count": 6,
   "metadata": {},
   "outputs": [],
   "source": [
    "from divexplorer import DivergencePatternProcessor\n",
    "\n",
    "fp_details = DivergencePatternProcessor(subgroups, 'PTOTVAL')"
   ]
  },
  {
   "cell_type": "markdown",
   "metadata": {},
   "source": [
    "We can print the Shapley values... "
   ]
  },
  {
   "cell_type": "code",
   "execution_count": 7,
   "metadata": {},
   "outputs": [
    {
     "data": {
      "text/plain": [
       "{frozenset({'SEX=Male'}): 22389.310994937503,\n",
       " frozenset({'AGE_RANGE=40'}): 49848.87155871764,\n",
       " frozenset({'EDUCATION=Professional'}): 132627.05203155955}"
      ]
     },
     "execution_count": 7,
     "metadata": {},
     "output_type": "execute_result"
    }
   ],
   "source": [
    "fp_details.shapley_value(pattern)"
   ]
  },
  {
   "cell_type": "markdown",
   "metadata": {},
   "source": [
    "... and we can plot them: "
   ]
  },
  {
   "cell_type": "code",
   "execution_count": 8,
   "metadata": {},
   "outputs": [
    {
     "data": {
      "image/png": "[encoded data removed]",
      "text/plain": [
       "<Figure size 200x200 with 1 Axes>"
      ]
     },
     "metadata": {},
     "output_type": "display_data"
    }
   ],
   "source": [
    "fp_details.plot_shapley_value(pattern=pattern, figsize=(2,2), title=\"Item contribution\")"
   ]
  },
  {
   "cell_type": "markdown",
   "metadata": {},
   "source": [
    "As we see, the most important factor is the educational level, followed by age range, followed by sex. "
   ]
  },
  {
   "cell_type": "markdown",
   "metadata": {},
   "source": [
    "## Outcomes\n",
    "\n",
    "When looking for divergence, DivExplorer considers an _outcome_. \n",
    "The outcome is a column whose values can be either floating-point numbers, or NaN.\n",
    "DivExplorer will compute, for each subgroup, the average of all non-NaN values. \n",
    "\n",
    "Precisely, if $\\alpha$ is the outcome, DivExplorer computes for every subgroup $S$: \n",
    "\n",
    "$$\n",
    "f_\\alpha(S) = E[\\alpha \\mid \\alpha \\neq NaN]\n",
    "$$\n",
    "\n",
    "The divergence of $S$ is then defined by:\n",
    "\n",
    "$$\n",
    "\\Delta_\\alpha(S) = f_\\alpha(S) - f_\\alpha(D) , \n",
    "$$\n",
    "\n",
    "where $D$ is the whole dataset.\n"
   ]
  },
  {
   "cell_type": "markdown",
   "metadata": {},
   "source": [
    "# Divergence in Classifiers\n",
    "\n",
    "DivExplorer can also be used to analyze the divergence in the performance of classifiers, studying for instance how different subgroups differ in their false positive or false negative rates, accuracy, and so on. \n",
    "This yields insights on how the classifier performs on different subgroups, and can be used to detect bias."
   ]
  },
  {
   "cell_type": "markdown",
   "metadata": {
    "ExecuteTime": {
     "end_time": "2021-06-11T17:27:41.995139Z",
     "start_time": "2021-06-11T17:27:41.990917Z"
    }
   },
   "source": [
    "## Example: False Positive Rate in COMPAS\n",
    "\n",
    "As an example, we consider how to find the data subgroups in the  [COMPAS](https://www.propublica.org/article/how-we-analyzed-the-compas-recidivism-algorithm) dataset that have greatest divergence in false positive rate.\n",
    "\n",
    "The COMPAS dataset contains demographic information and the criminal history of defendants. \n",
    "The goal is to predict whether defendants will recidivate (commit another crime) in the next two years.\n",
    "A false positive is a defendant that is predicted to recidivate, but does not.\n",
    "Subgroups with higher false-positive rate are subgroups that are most disadvantaged by the classifier decisions. \n",
    "\n",
    "To identify them, we begin by importing a discretized version of the COMPAS dataset. "
   ]
  },
  {
   "cell_type": "code",
   "execution_count": 9,
   "metadata": {},
   "outputs": [
    {
     "data": {
      "text/html": [
       "<div>\n",
       "<style scoped>\n",
       "    .dataframe tbody tr th:only-of-type {\n",
       "        vertical-align: middle;\n",
       "    }\n",
       "\n",
       "    .dataframe tbody tr th {\n",
       "        vertical-align: top;\n",
       "    }\n",
       "\n",
       "    .dataframe thead th {\n",
       "        text-align: right;\n",
       "    }\n",
       "</style>\n",
       "<table border=\"1\" class=\"dataframe\">\n",
       "  <thead>\n",
       "    <tr style=\"text-align: right;\">\n",
       "      <th></th>\n",
       "      <th>age</th>\n",
       "      <th>charge</th>\n",
       "      <th>race</th>\n",
       "      <th>sex</th>\n",
       "      <th>#prior</th>\n",
       "      <th>stay</th>\n",
       "      <th>class</th>\n",
       "      <th>predicted</th>\n",
       "    </tr>\n",
       "  </thead>\n",
       "  <tbody>\n",
       "    <tr>\n",
       "      <th>0</th>\n",
       "      <td>&gt;45</td>\n",
       "      <td>F</td>\n",
       "      <td>Other</td>\n",
       "      <td>Male</td>\n",
       "      <td>0</td>\n",
       "      <td>&lt;week</td>\n",
       "      <td>0</td>\n",
       "      <td>0</td>\n",
       "    </tr>\n",
       "    <tr>\n",
       "      <th>1</th>\n",
       "      <td>25-45</td>\n",
       "      <td>F</td>\n",
       "      <td>Afr-Am</td>\n",
       "      <td>Male</td>\n",
       "      <td>0</td>\n",
       "      <td>1w-3M</td>\n",
       "      <td>1</td>\n",
       "      <td>0</td>\n",
       "    </tr>\n",
       "    <tr>\n",
       "      <th>2</th>\n",
       "      <td>&lt;25</td>\n",
       "      <td>F</td>\n",
       "      <td>Afr-Am</td>\n",
       "      <td>Male</td>\n",
       "      <td>&gt;3</td>\n",
       "      <td>&lt;week</td>\n",
       "      <td>1</td>\n",
       "      <td>0</td>\n",
       "    </tr>\n",
       "    <tr>\n",
       "      <th>3</th>\n",
       "      <td>25-45</td>\n",
       "      <td>M</td>\n",
       "      <td>Other</td>\n",
       "      <td>Male</td>\n",
       "      <td>0</td>\n",
       "      <td>&lt;week</td>\n",
       "      <td>0</td>\n",
       "      <td>0</td>\n",
       "    </tr>\n",
       "    <tr>\n",
       "      <th>4</th>\n",
       "      <td>25-45</td>\n",
       "      <td>F</td>\n",
       "      <td>Cauc</td>\n",
       "      <td>Male</td>\n",
       "      <td>&gt;3</td>\n",
       "      <td>&lt;week</td>\n",
       "      <td>1</td>\n",
       "      <td>0</td>\n",
       "    </tr>\n",
       "  </tbody>\n",
       "</table>\n",
       "</div>"
      ],
      "text/plain": [
       "     age charge    race   sex #prior   stay  class  predicted\n",
       "0    >45      F   Other  Male      0  <week      0          0\n",
       "1  25-45      F  Afr-Am  Male      0  1w-3M      1          0\n",
       "2    <25      F  Afr-Am  Male     >3  <week      1          0\n",
       "3  25-45      M   Other  Male      0  <week      0          0\n",
       "4  25-45      F    Cauc  Male     >3  <week      1          0"
      ]
     },
     "execution_count": 9,
     "metadata": {},
     "output_type": "execute_result"
    }
   ],
   "source": [
    "\n",
    "compas_df = pd.read_csv('https://raw.githubusercontent.com/divexplorer/divexplorer/main/datasets/compas_discretized.csv')\n",
    "compas_df.head()"
   ]
  },
  {
   "cell_type": "markdown",
   "metadata": {},
   "source": [
    "The COMPAS dataset contains demographic information and the criminal history of defendants.\n",
    "For each criminal defendant, the following attributes are available:\n",
    "- `age`: age category of the defendant. \n",
    "- `charge`: severity of the charge. 'M'='Misdemeanor','F'='Felony' \n",
    "- `race`: 'Afr-Am', 'Asian', 'Cauc', 'Hispanic', 'Native American', 'Other'\n",
    "- `sex`: 'Female', 'Male'\n",
    "- `#prior`: number of prior crimes committed by the defendant\n",
    "- `stay`: length of previous stay in jail. \n",
    "\n",
    "For each defendant, the dataset also records:\n",
    "\n",
    "- the (true) `class`, whether the defendant recidivated (was arrested again) in the next two years. It is 1 if the defendant recidivated, 0 otherwise.\n",
    "- the `predicted` recidivism, derived from the COMPAS score of recidivism risk. Again, a value of 1 indicates a prediction of recidivism."
   ]
  },
  {
   "cell_type": "markdown",
   "metadata": {},
   "source": [
    "### Encoding the false-positive rate as an outcome\n",
    "\n",
    "To study the false-positive rate, we add an outcome column `fp` whose average yields the false-positive rate, like so: "
   ]
  },
  {
   "cell_type": "code",
   "execution_count": 10,
   "metadata": {},
   "outputs": [
    {
     "data": {
      "text/html": [
       "<div>\n",
       "<style scoped>\n",
       "    .dataframe tbody tr th:only-of-type {\n",
       "        vertical-align: middle;\n",
       "    }\n",
       "\n",
       "    .dataframe tbody tr th {\n",
       "        vertical-align: top;\n",
       "    }\n",
       "\n",
       "    .dataframe thead th {\n",
       "        text-align: right;\n",
       "    }\n",
       "</style>\n",
       "<table border=\"1\" class=\"dataframe\">\n",
       "  <thead>\n",
       "    <tr style=\"text-align: right;\">\n",
       "      <th></th>\n",
       "      <th>age</th>\n",
       "      <th>charge</th>\n",
       "      <th>race</th>\n",
       "      <th>sex</th>\n",
       "      <th>#prior</th>\n",
       "      <th>stay</th>\n",
       "      <th>class</th>\n",
       "      <th>predicted</th>\n",
       "      <th>fp</th>\n",
       "    </tr>\n",
       "  </thead>\n",
       "  <tbody>\n",
       "    <tr>\n",
       "      <th>105</th>\n",
       "      <td>25-45</td>\n",
       "      <td>F</td>\n",
       "      <td>Afr-Am</td>\n",
       "      <td>Male</td>\n",
       "      <td>[1,3]</td>\n",
       "      <td>&lt;week</td>\n",
       "      <td>1</td>\n",
       "      <td>1</td>\n",
       "      <td>NaN</td>\n",
       "    </tr>\n",
       "    <tr>\n",
       "      <th>106</th>\n",
       "      <td>&gt;45</td>\n",
       "      <td>M</td>\n",
       "      <td>Cauc</td>\n",
       "      <td>Male</td>\n",
       "      <td>[1,3]</td>\n",
       "      <td>&lt;week</td>\n",
       "      <td>0</td>\n",
       "      <td>1</td>\n",
       "      <td>1.0</td>\n",
       "    </tr>\n",
       "    <tr>\n",
       "      <th>107</th>\n",
       "      <td>25-45</td>\n",
       "      <td>F</td>\n",
       "      <td>Afr-Am</td>\n",
       "      <td>Male</td>\n",
       "      <td>&gt;3</td>\n",
       "      <td>&lt;week</td>\n",
       "      <td>1</td>\n",
       "      <td>1</td>\n",
       "      <td>NaN</td>\n",
       "    </tr>\n",
       "    <tr>\n",
       "      <th>108</th>\n",
       "      <td>25-45</td>\n",
       "      <td>F</td>\n",
       "      <td>Cauc</td>\n",
       "      <td>Male</td>\n",
       "      <td>&gt;3</td>\n",
       "      <td>&lt;week</td>\n",
       "      <td>0</td>\n",
       "      <td>0</td>\n",
       "      <td>0.0</td>\n",
       "    </tr>\n",
       "    <tr>\n",
       "      <th>109</th>\n",
       "      <td>25-45</td>\n",
       "      <td>F</td>\n",
       "      <td>Cauc</td>\n",
       "      <td>Female</td>\n",
       "      <td>[1,3]</td>\n",
       "      <td>&lt;week</td>\n",
       "      <td>0</td>\n",
       "      <td>0</td>\n",
       "      <td>0.0</td>\n",
       "    </tr>\n",
       "  </tbody>\n",
       "</table>\n",
       "</div>"
      ],
      "text/plain": [
       "       age charge    race     sex #prior   stay  class  predicted   fp\n",
       "105  25-45      F  Afr-Am    Male  [1,3]  <week      1          1  NaN\n",
       "106    >45      M    Cauc    Male  [1,3]  <week      0          1  1.0\n",
       "107  25-45      F  Afr-Am    Male     >3  <week      1          1  NaN\n",
       "108  25-45      F    Cauc    Male     >3  <week      0          0  0.0\n",
       "109  25-45      F    Cauc  Female  [1,3]  <week      0          0  0.0"
      ]
     },
     "execution_count": 10,
     "metadata": {},
     "output_type": "execute_result"
    }
   ],
   "source": [
    "from divexplorer.outcomes import get_false_positive_rate_outcome\n",
    "\n",
    "y_trues = compas_df[\"class\"]\n",
    "y_preds = compas_df[\"predicted\"]\n",
    "\n",
    "compas_df['fp'] =  get_false_positive_rate_outcome(y_trues, y_preds)\n",
    "compas_df[105:110]"
   ]
  },
  {
   "cell_type": "markdown",
   "metadata": {},
   "source": [
    "The `fp` column has values: \n",
    "\n",
    "* 1, if the data is a false positive (`class` is 0 and `predicted` is 1)\n",
    "* 0, if the data is a true negative (`class` is 0 and `predicted` is 0). \n",
    "* NaN, if the class is positive (`class` is 1).\n",
    "\n",
    "We use NaN values to exclude data from the average, so that the average of the `fp` column is the false-positive rate. "
   ]
  },
  {
   "cell_type": "markdown",
   "metadata": {},
   "source": [
    "### Finding divergent subgroups in a classifier\n",
    "\n",
    "Once this new column is added, we can again ask for divergence.\n",
    "\n",
    "Note how we specify via `attributes` what are the columns we want to use to form the subgroups, to exclude uninteresting columns such as `class` and `predicted`.\n",
    "\n",
    "Note also that `fp` is passed as a `boolean_outcomes`.  The difference between quantitative outcomes (such as income in the census example) and boolean outcomes (such as false-positive rate) are treated lies in how the statistical significance is computed. \n",
    "In both cases, we use [Welch's t-test](https://en.wikipedia.org/wiki/Welch%27s_t-test), but for boolean outcomes, we use the mean and standard deviation of the [Beta distribution](https://en.wikipedia.org/wiki/Beta_distribution) to compute the t-statistic. See the [papers](https://divexplorer.github.io) for details."
   ]
  },
  {
   "cell_type": "code",
   "execution_count": 11,
   "metadata": {},
   "outputs": [
    {
     "data": {
      "text/html": [
       "<div>\n",
       "<style scoped>\n",
       "    .dataframe tbody tr th:only-of-type {\n",
       "        vertical-align: middle;\n",
       "    }\n",
       "\n",
       "    .dataframe tbody tr th {\n",
       "        vertical-align: top;\n",
       "    }\n",
       "\n",
       "    .dataframe thead th {\n",
       "        text-align: right;\n",
       "    }\n",
       "</style>\n",
       "<table border=\"1\" class=\"dataframe\">\n",
       "  <thead>\n",
       "    <tr style=\"text-align: right;\">\n",
       "      <th></th>\n",
       "      <th>support</th>\n",
       "      <th>itemset</th>\n",
       "      <th>fp</th>\n",
       "      <th>fp_div</th>\n",
       "      <th>fp_t</th>\n",
       "      <th>length</th>\n",
       "      <th>support_count</th>\n",
       "    </tr>\n",
       "  </thead>\n",
       "  <tbody>\n",
       "    <tr>\n",
       "      <th>0</th>\n",
       "      <td>0.128645</td>\n",
       "      <td>(race=Afr-Am, age=25-45, sex=Male, #prior=&gt;3)</td>\n",
       "      <td>0.308036</td>\n",
       "      <td>0.219722</td>\n",
       "      <td>7.116857</td>\n",
       "      <td>4</td>\n",
       "      <td>794.0</td>\n",
       "    </tr>\n",
       "    <tr>\n",
       "      <th>1</th>\n",
       "      <td>0.145010</td>\n",
       "      <td>(race=Afr-Am, age=25-45, #prior=&gt;3)</td>\n",
       "      <td>0.299242</td>\n",
       "      <td>0.210928</td>\n",
       "      <td>7.448260</td>\n",
       "      <td>3</td>\n",
       "      <td>895.0</td>\n",
       "    </tr>\n",
       "    <tr>\n",
       "      <th>2</th>\n",
       "      <td>0.175308</td>\n",
       "      <td>(race=Afr-Am, sex=Male, #prior=&gt;3)</td>\n",
       "      <td>0.266871</td>\n",
       "      <td>0.178557</td>\n",
       "      <td>7.214382</td>\n",
       "      <td>3</td>\n",
       "      <td>1082.0</td>\n",
       "    </tr>\n",
       "    <tr>\n",
       "      <th>3</th>\n",
       "      <td>0.196695</td>\n",
       "      <td>(race=Afr-Am, #prior=&gt;3)</td>\n",
       "      <td>0.261097</td>\n",
       "      <td>0.172783</td>\n",
       "      <td>7.582039</td>\n",
       "      <td>2</td>\n",
       "      <td>1214.0</td>\n",
       "    </tr>\n",
       "    <tr>\n",
       "      <th>4</th>\n",
       "      <td>0.180655</td>\n",
       "      <td>(age=25-45, sex=Male, #prior=&gt;3)</td>\n",
       "      <td>0.252941</td>\n",
       "      <td>0.164627</td>\n",
       "      <td>6.903692</td>\n",
       "      <td>3</td>\n",
       "      <td>1115.0</td>\n",
       "    </tr>\n",
       "    <tr>\n",
       "      <th>5</th>\n",
       "      <td>0.207226</td>\n",
       "      <td>(age=25-45, #prior=&gt;3)</td>\n",
       "      <td>0.251889</td>\n",
       "      <td>0.163575</td>\n",
       "      <td>7.384973</td>\n",
       "      <td>2</td>\n",
       "      <td>1279.0</td>\n",
       "    </tr>\n",
       "    <tr>\n",
       "      <th>6</th>\n",
       "      <td>0.256643</td>\n",
       "      <td>(sex=Male, #prior=&gt;3)</td>\n",
       "      <td>0.222868</td>\n",
       "      <td>0.134554</td>\n",
       "      <td>7.146700</td>\n",
       "      <td>2</td>\n",
       "      <td>1584.0</td>\n",
       "    </tr>\n",
       "    <tr>\n",
       "      <th>7</th>\n",
       "      <td>0.107583</td>\n",
       "      <td>(race=Afr-Am, age=&lt;25, sex=Male)</td>\n",
       "      <td>0.219409</td>\n",
       "      <td>0.131095</td>\n",
       "      <td>4.886362</td>\n",
       "      <td>3</td>\n",
       "      <td>664.0</td>\n",
       "    </tr>\n",
       "    <tr>\n",
       "      <th>8</th>\n",
       "      <td>0.293422</td>\n",
       "      <td>(#prior=&gt;3)</td>\n",
       "      <td>0.219269</td>\n",
       "      <td>0.130955</td>\n",
       "      <td>7.503321</td>\n",
       "      <td>1</td>\n",
       "      <td>1811.0</td>\n",
       "    </tr>\n",
       "    <tr>\n",
       "      <th>9</th>\n",
       "      <td>0.131076</td>\n",
       "      <td>(race=Afr-Am, age=&lt;25)</td>\n",
       "      <td>0.207547</td>\n",
       "      <td>0.119233</td>\n",
       "      <td>5.200687</td>\n",
       "      <td>2</td>\n",
       "      <td>809.0</td>\n",
       "    </tr>\n",
       "  </tbody>\n",
       "</table>\n",
       "</div>"
      ],
      "text/plain": [
       "    support                                        itemset        fp  \\\n",
       "0  0.128645  (race=Afr-Am, age=25-45, sex=Male, #prior=>3)  0.308036   \n",
       "1  0.145010            (race=Afr-Am, age=25-45, #prior=>3)  0.299242   \n",
       "2  0.175308             (race=Afr-Am, sex=Male, #prior=>3)  0.266871   \n",
       "3  0.196695                       (race=Afr-Am, #prior=>3)  0.261097   \n",
       "4  0.180655               (age=25-45, sex=Male, #prior=>3)  0.252941   \n",
       "5  0.207226                         (age=25-45, #prior=>3)  0.251889   \n",
       "6  0.256643                          (sex=Male, #prior=>3)  0.222868   \n",
       "7  0.107583               (race=Afr-Am, age=<25, sex=Male)  0.219409   \n",
       "8  0.293422                                    (#prior=>3)  0.219269   \n",
       "9  0.131076                         (race=Afr-Am, age=<25)  0.207547   \n",
       "\n",
       "     fp_div      fp_t  length  support_count  \n",
       "0  0.219722  7.116857       4          794.0  \n",
       "1  0.210928  7.448260       3          895.0  \n",
       "2  0.178557  7.214382       3         1082.0  \n",
       "3  0.172783  7.582039       2         1214.0  \n",
       "4  0.164627  6.903692       3         1115.0  \n",
       "5  0.163575  7.384973       2         1279.0  \n",
       "6  0.134554  7.146700       2         1584.0  \n",
       "7  0.131095  4.886362       3          664.0  \n",
       "8  0.130955  7.503321       1         1811.0  \n",
       "9  0.119233  5.200687       2          809.0  "
      ]
     },
     "execution_count": 11,
     "metadata": {},
     "output_type": "execute_result"
    }
   ],
   "source": [
    "fp_diver = DivergenceExplorer(compas_df)\n",
    "\n",
    "attributes = ['race', '#prior', 'sex', 'age']\n",
    "FP_fm = fp_diver.get_pattern_divergence(min_support=0.1, attributes=attributes, \n",
    "                                        boolean_outcomes=['fp'])\n",
    "FP_fm = FP_fm.sort_values(by=\"fp_div\", ascending=False, ignore_index=True)\n",
    "FP_fm.head(10)"
   ]
  },
  {
   "cell_type": "markdown",
   "metadata": {},
   "source": [
    "The subgroup with highest false-positive rate is (sex=Male, age=25-45, race=Afr-Am, #prior=>3), and they have a rate of 30.8%, which is 22% above the average false-positive rate.  The t-statistic is 7.1, which indicates high significance.  There are 794 instances in this subgroup."
   ]
  },
  {
   "cell_type": "markdown",
   "metadata": {},
   "source": [
    "#### Shapley Value\n",
    "\n",
    "The divergence of each pattern can be attributed to the items (_attribute=value_ pairs) that compose it via the Shapley value. "
   ]
  },
  {
   "cell_type": "code",
   "execution_count": 12,
   "metadata": {},
   "outputs": [
    {
     "name": "stdout",
     "output_type": "stream",
     "text": [
      "frozenset({'race=Afr-Am', 'age=25-45', 'sex=Male', '#prior=>3'})\n"
     ]
    },
    {
     "data": {
      "text/plain": [
       "{frozenset({'race=Afr-Am'}): 0.05115538154975479,\n",
       " frozenset({'age=25-45'}): 0.019084863062973356,\n",
       " frozenset({'sex=Male'}): 0.007220590601649036,\n",
       " frozenset({'#prior=>3'}): 0.14226087371897317}"
      ]
     },
     "execution_count": 12,
     "metadata": {},
     "output_type": "execute_result"
    }
   ],
   "source": [
    "fp_details = DivergencePatternProcessor(FP_fm, 'fp')\n",
    "\n",
    "# We can pick a pattern \n",
    "pattern = fp_details.patterns['itemset'].iloc[0]\n",
    "print(pattern)\n",
    "\n",
    "# and compute the Shapley value of the items. \n",
    "sv = fp_details.shapley_value(pattern)\n",
    "sv"
   ]
  },
  {
   "cell_type": "code",
   "execution_count": 13,
   "metadata": {},
   "outputs": [
    {
     "data": {
      "image/png": "[encoded data removed]",
      "text/plain": [
       "<Figure size 200x200 with 1 Axes>"
      ]
     },
     "metadata": {},
     "output_type": "display_data"
    }
   ],
   "source": [
    "# We can also plot the Shapley value.\n",
    "\n",
    "fp_details.plot_shapley_value(pattern = pattern, figsize=(2,2), title=\"Item contribution\")"
   ]
  },
  {
   "cell_type": "markdown",
   "metadata": {},
   "source": [
    "### Redundancy pruning"
   ]
  },
  {
   "cell_type": "markdown",
   "metadata": {},
   "source": [
    "Sometimes, many similar patterns are returned: if $(A, B, C)$ is divergent, often so is $(A, B, C, D)$, $(A, B, C, E)$, and so on.\n",
    "To obtain a more concise summary, we can prune patterns that are redundant, that is, too similar to other patterns.  \n",
    "This prunes a pattern $\\beta$ if there is a pattern $\\alpha$, subset of $\\beta$, with a divergence difference below a threshold. "
   ]
  },
  {
   "cell_type": "code",
   "execution_count": 14,
   "metadata": {},
   "outputs": [
    {
     "data": {
      "text/html": [
       "<div>\n",
       "<style scoped>\n",
       "    .dataframe tbody tr th:only-of-type {\n",
       "        vertical-align: middle;\n",
       "    }\n",
       "\n",
       "    .dataframe tbody tr th {\n",
       "        vertical-align: top;\n",
       "    }\n",
       "\n",
       "    .dataframe thead th {\n",
       "        text-align: right;\n",
       "    }\n",
       "</style>\n",
       "<table border=\"1\" class=\"dataframe\">\n",
       "  <thead>\n",
       "    <tr style=\"text-align: right;\">\n",
       "      <th></th>\n",
       "      <th>support</th>\n",
       "      <th>itemset</th>\n",
       "      <th>length</th>\n",
       "      <th>support_count</th>\n",
       "      <th>fp</th>\n",
       "      <th>fp_div</th>\n",
       "      <th>fp_t</th>\n",
       "    </tr>\n",
       "  </thead>\n",
       "  <tbody>\n",
       "    <tr>\n",
       "      <th>1</th>\n",
       "      <td>0.145010</td>\n",
       "      <td>(race=Afr-Am, age=25-45, #prior=&gt;3)</td>\n",
       "      <td>3</td>\n",
       "      <td>895.0</td>\n",
       "      <td>0.299242</td>\n",
       "      <td>0.210928</td>\n",
       "      <td>7.448260</td>\n",
       "    </tr>\n",
       "    <tr>\n",
       "      <th>3</th>\n",
       "      <td>0.196695</td>\n",
       "      <td>(race=Afr-Am, #prior=&gt;3)</td>\n",
       "      <td>2</td>\n",
       "      <td>1214.0</td>\n",
       "      <td>0.261097</td>\n",
       "      <td>0.172783</td>\n",
       "      <td>7.582039</td>\n",
       "    </tr>\n",
       "    <tr>\n",
       "      <th>5</th>\n",
       "      <td>0.207226</td>\n",
       "      <td>(age=25-45, #prior=&gt;3)</td>\n",
       "      <td>2</td>\n",
       "      <td>1279.0</td>\n",
       "      <td>0.251889</td>\n",
       "      <td>0.163575</td>\n",
       "      <td>7.384973</td>\n",
       "    </tr>\n",
       "    <tr>\n",
       "      <th>7</th>\n",
       "      <td>0.107583</td>\n",
       "      <td>(race=Afr-Am, age=&lt;25, sex=Male)</td>\n",
       "      <td>3</td>\n",
       "      <td>664.0</td>\n",
       "      <td>0.219409</td>\n",
       "      <td>0.131095</td>\n",
       "      <td>4.886362</td>\n",
       "    </tr>\n",
       "    <tr>\n",
       "      <th>8</th>\n",
       "      <td>0.293422</td>\n",
       "      <td>(#prior=&gt;3)</td>\n",
       "      <td>1</td>\n",
       "      <td>1811.0</td>\n",
       "      <td>0.219269</td>\n",
       "      <td>0.130955</td>\n",
       "      <td>7.503321</td>\n",
       "    </tr>\n",
       "  </tbody>\n",
       "</table>\n",
       "</div>"
      ],
      "text/plain": [
       "    support                              itemset  length  support_count  \\\n",
       "1  0.145010  (race=Afr-Am, age=25-45, #prior=>3)       3          895.0   \n",
       "3  0.196695             (race=Afr-Am, #prior=>3)       2         1214.0   \n",
       "5  0.207226               (age=25-45, #prior=>3)       2         1279.0   \n",
       "7  0.107583     (race=Afr-Am, age=<25, sex=Male)       3          664.0   \n",
       "8  0.293422                          (#prior=>3)       1         1811.0   \n",
       "\n",
       "         fp    fp_div      fp_t  \n",
       "1  0.299242  0.210928  7.448260  \n",
       "3  0.261097  0.172783  7.582039  \n",
       "5  0.251889  0.163575  7.384973  \n",
       "7  0.219409  0.131095  4.886362  \n",
       "8  0.219269  0.130955  7.503321  "
      ]
     },
     "execution_count": 14,
     "metadata": {},
     "output_type": "execute_result"
    }
   ],
   "source": [
    "df_pruned = fp_details.redundancy_pruning(th_redundancy=0.01)\n",
    "df_pruned.sort_values(\"fp_div\", ascending=False).head(5)"
   ]
  },
  {
   "cell_type": "markdown",
   "metadata": {},
   "source": [
    "### Global Shapley value\n",
    "\n",
    "We can compute the global shapley value of the pattern divergence across all the patterns.\n",
    "This is helpful in understanding which attributes contribute most to the divergence, across all patterns.\n"
   ]
  },
  {
   "cell_type": "code",
   "execution_count": 15,
   "metadata": {},
   "outputs": [
    {
     "data": {
      "text/plain": [
       "{frozenset({'#prior=>3'}): np.float64(0.019263587979733335),\n",
       " frozenset({'age=<25'}): np.float64(0.010137226242967427),\n",
       " frozenset({'race=Afr-Am'}): np.float64(0.01239903749656446),\n",
       " frozenset({'sex=Male'}): np.float64(0.0016221318770391336),\n",
       " frozenset({'age=25-45'}): np.float64(0.0005024416072909253),\n",
       " frozenset({'#prior=[1,3]'}): np.float64(-0.002856743909898795),\n",
       " frozenset({'sex=Female'}): np.float64(-0.0027027717590977353),\n",
       " frozenset({'#prior=0'}): np.float64(-0.006043736932258317),\n",
       " frozenset({'race=Cauc'}): np.float64(-0.00816712013692971),\n",
       " frozenset({'age=>45'}): np.float64(-0.006468567991314258)}"
      ]
     },
     "execution_count": 15,
     "metadata": {},
     "output_type": "execute_result"
    }
   ],
   "source": [
    "gsv = fp_details.global_shapley_value()\n",
    "gsv"
   ]
  },
  {
   "cell_type": "code",
   "execution_count": 16,
   "metadata": {},
   "outputs": [
    {
     "data": {
      "image/png": "[encoded data removed]",
      "text/plain": [
       "<Figure size 300x400 with 1 Axes>"
      ]
     },
     "metadata": {},
     "output_type": "display_data"
    }
   ],
   "source": [
    "fp_details.plot_shapley_value(shapley_values=gsv, figsize=(3,4), title='Global Shapley Value')"
   ]
  },
  {
   "cell_type": "markdown",
   "metadata": {},
   "source": [
    "We see how the main factor increasing false-positives, across all patterns (in combination with all other attributes) is a high number of priors, while the main factor reducing the false-positive rate is Caucasian race. "
   ]
  }
 ],
 "metadata": {
  "hide_input": false,
  "kernelspec": {
   "display_name": "divexplorer",
   "language": "python",
   "name": "python3"
  },
  "language_info": {
   "codemirror_mode": {
    "name": "ipython",
    "version": 3
   },
   "file_extension": ".py",
   "mimetype": "text/x-python",
   "name": "python",
   "nbconvert_exporter": "python",
   "pygments_lexer": "ipython3",
   "version": "3.12.4"
  },
  "toc": {
   "base_numbering": 1,
   "nav_menu": {},
   "number_sections": true,
   "sideBar": true,
   "skip_h1_title": false,
   "title_cell": "Table of Contents",
   "title_sidebar": "Contents",
   "toc_cell": false,
   "toc_position": {
    "height": "522px",
    "left": "26px",
    "top": "109.301px",
    "width": "182px"
   },
   "toc_section_display": true,
   "toc_window_display": true
  },
  "varInspector": {
   "cols": {
    "lenName": 16,
    "lenType": 16,
    "lenVar": 40
   },
   "kernels_config": {
    "python": {
     "delete_cmd_postfix": "",
     "delete_cmd_prefix": "del ",
     "library": "var_list.py",
     "varRefreshCmd": "print(var_dic_list())"
    },
    "r": {
     "delete_cmd_postfix": ") ",
     "delete_cmd_prefix": "rm(",
     "library": "var_list.r",
     "varRefreshCmd": "cat(var_dic_list()) "
    }
   },
   "types_to_exclude": [
    "module",
    "function",
    "builtin_function_or_method",
    "instance",
    "_Feature"
   ],
   "window_display": false
  }
 },
 "nbformat": 4,
 "nbformat_minor": 2
}
