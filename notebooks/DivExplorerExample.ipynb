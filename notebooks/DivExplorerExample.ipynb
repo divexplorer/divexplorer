{
 "cells": [
  {
   "cell_type": "markdown",
   "metadata": {},
   "source": [
    "# DivExplorer: Finding Divergent Data Subgroups"
   ]
  },
  {
   "cell_type": "markdown",
   "metadata": {},
   "source": [
    " <a href=\"https://colab.research.google.com/github/divexplorer/divexplorer/blob/main/notebooks/DivExplorerExample.ipynb\" target=\"_parent\"><img src=\"https://colab.research.google.com/assets/colab-badge.svg\" alt=\"Open In Colab\"/></a>"
   ]
  },
  {
   "cell_type": "markdown",
   "metadata": {
    "ExecuteTime": {
     "end_time": "2021-06-11T14:57:33.227374Z",
     "start_time": "2021-06-11T14:57:33.204664Z"
    }
   },
   "source": [
    "DivExplorer will find data subgroups that are _divergent_, that is, subgroups that have a different value for a target statistics than the rest of the data. For example, in a dataset of loan applicants, DivExplorer can find subgroups that have a different loan approval rate than the rest of the data.\n",
    "\n",
    "In the simplest case, the target statistics is the average of some numerical field, and DivExplorer will find subgroups that have highest or lowest average for that field. "
   ]
  },
  {
   "cell_type": "markdown",
   "metadata": {},
   "source": [
    "We need to install the DivExplorer package and import it. You can comment out the installation line if you have it already installed. "
   ]
  },
  {
   "cell_type": "code",
   "execution_count": 1,
   "metadata": {},
   "outputs": [
    {
     "name": "stdout",
     "output_type": "stream",
     "text": [
      "Requirement already satisfied: divexplorer in /Users/luca/pyenvs/divexplorer/lib/python3.12/site-packages (0.2.6)\n",
      "Requirement already satisfied: matplotlib>=3.1.1 in /Users/luca/pyenvs/divexplorer/lib/python3.12/site-packages (from divexplorer) (3.9.2)\n",
      "Requirement already satisfied: numpy>=1.16.4 in /Users/luca/pyenvs/divexplorer/lib/python3.12/site-packages (from divexplorer) (2.1.3)\n",
      "Requirement already satisfied: mlxtend>=0.17.1 in /Users/luca/pyenvs/divexplorer/lib/python3.12/site-packages (from divexplorer) (0.23.1)\n",
      "Requirement already satisfied: pandas>=0.24.2 in /Users/luca/pyenvs/divexplorer/lib/python3.12/site-packages (from divexplorer) (2.2.3)\n",
      "Requirement already satisfied: plotly>=4.5.0 in /Users/luca/pyenvs/divexplorer/lib/python3.12/site-packages (from divexplorer) (5.24.1)\n",
      "Requirement already satisfied: python_igraph>=0.8.3 in /Users/luca/pyenvs/divexplorer/lib/python3.12/site-packages (from divexplorer) (0.11.8)\n",
      "Requirement already satisfied: contourpy>=1.0.1 in /Users/luca/pyenvs/divexplorer/lib/python3.12/site-packages (from matplotlib>=3.1.1->divexplorer) (1.3.0)\n",
      "Requirement already satisfied: cycler>=0.10 in /Users/luca/pyenvs/divexplorer/lib/python3.12/site-packages (from matplotlib>=3.1.1->divexplorer) (0.12.1)\n",
      "Requirement already satisfied: fonttools>=4.22.0 in /Users/luca/pyenvs/divexplorer/lib/python3.12/site-packages (from matplotlib>=3.1.1->divexplorer) (4.54.1)\n",
      "Requirement already satisfied: kiwisolver>=1.3.1 in /Users/luca/pyenvs/divexplorer/lib/python3.12/site-packages (from matplotlib>=3.1.1->divexplorer) (1.4.7)\n",
      "Requirement already satisfied: packaging>=20.0 in /Users/luca/pyenvs/divexplorer/lib/python3.12/site-packages (from matplotlib>=3.1.1->divexplorer) (24.1)\n",
      "Requirement already satisfied: pillow>=8 in /Users/luca/pyenvs/divexplorer/lib/python3.12/site-packages (from matplotlib>=3.1.1->divexplorer) (11.0.0)\n",
      "Requirement already satisfied: pyparsing>=2.3.1 in /Users/luca/pyenvs/divexplorer/lib/python3.12/site-packages (from matplotlib>=3.1.1->divexplorer) (3.2.0)\n",
      "Requirement already satisfied: python-dateutil>=2.7 in /Users/luca/pyenvs/divexplorer/lib/python3.12/site-packages (from matplotlib>=3.1.1->divexplorer) (2.9.0.post0)\n",
      "Requirement already satisfied: scipy>=1.2.1 in /Users/luca/pyenvs/divexplorer/lib/python3.12/site-packages (from mlxtend>=0.17.1->divexplorer) (1.14.1)\n",
      "Requirement already satisfied: scikit-learn>=1.0.2 in /Users/luca/pyenvs/divexplorer/lib/python3.12/site-packages (from mlxtend>=0.17.1->divexplorer) (1.5.2)\n",
      "Requirement already satisfied: joblib>=0.13.2 in /Users/luca/pyenvs/divexplorer/lib/python3.12/site-packages (from mlxtend>=0.17.1->divexplorer) (1.4.2)\n",
      "Requirement already satisfied: pytz>=2020.1 in /Users/luca/pyenvs/divexplorer/lib/python3.12/site-packages (from pandas>=0.24.2->divexplorer) (2024.2)\n",
      "Requirement already satisfied: tzdata>=2022.7 in /Users/luca/pyenvs/divexplorer/lib/python3.12/site-packages (from pandas>=0.24.2->divexplorer) (2024.2)\n",
      "Requirement already satisfied: tenacity>=6.2.0 in /Users/luca/pyenvs/divexplorer/lib/python3.12/site-packages (from plotly>=4.5.0->divexplorer) (9.0.0)\n",
      "Requirement already satisfied: igraph==0.11.8 in /Users/luca/pyenvs/divexplorer/lib/python3.12/site-packages (from python_igraph>=0.8.3->divexplorer) (0.11.8)\n",
      "Requirement already satisfied: texttable>=1.6.2 in /Users/luca/pyenvs/divexplorer/lib/python3.12/site-packages (from igraph==0.11.8->python_igraph>=0.8.3->divexplorer) (1.7.0)\n",
      "Requirement already satisfied: six>=1.5 in /Users/luca/pyenvs/divexplorer/lib/python3.12/site-packages (from python-dateutil>=2.7->matplotlib>=3.1.1->divexplorer) (1.16.0)\n",
      "Requirement already satisfied: threadpoolctl>=3.1.0 in /Users/luca/pyenvs/divexplorer/lib/python3.12/site-packages (from scikit-learn>=1.0.2->mlxtend>=0.17.1->divexplorer) (3.5.0)\n",
      "\n",
      "\u001b[1m[\u001b[0m\u001b[34;49mnotice\u001b[0m\u001b[1;39;49m]\u001b[0m\u001b[39;49m A new release of pip is available: \u001b[0m\u001b[31;49m24.0\u001b[0m\u001b[39;49m -> \u001b[0m\u001b[32;49m24.3.1\u001b[0m\n",
      "\u001b[1m[\u001b[0m\u001b[34;49mnotice\u001b[0m\u001b[1;39;49m]\u001b[0m\u001b[39;49m To update, run: \u001b[0m\u001b[32;49mpip install --upgrade pip\u001b[0m\n",
      "Note: you may need to restart the kernel to use updated packages.\n"
     ]
    }
   ],
   "source": [
    "%pip install divexplorer"
   ]
  },
  {
   "cell_type": "code",
   "execution_count": 2,
   "metadata": {},
   "outputs": [],
   "source": [
    "from divexplorer import DivergenceExplorer, DivergencePatternProcessor"
   ]
  },
  {
   "cell_type": "markdown",
   "metadata": {},
   "source": [
    "## A census example\n",
    "\n",
    "### An example of a quantitative outcome analysis\n",
    "\n",
    "As a simple example, we apply DivExplorer to a dataset derived from [census data](https://www.census.gov/data/datasets/time-series/demo/cps/cps-asec.html). \n",
    "The dataset contains state of residence, gender, educational achievement, age, and income, and we will find subgroups with lowest and highest average income. \n",
    "The income is our _quantitative outcome_: it is the variable whose average we want to compare between subgroups. "
   ]
  },
  {
   "cell_type": "code",
   "execution_count": 3,
   "metadata": {},
   "outputs": [
    {
     "data": {
      "text/html": [
       "<div>\n",
       "<style scoped>\n",
       "    .dataframe tbody tr th:only-of-type {\n",
       "        vertical-align: middle;\n",
       "    }\n",
       "\n",
       "    .dataframe tbody tr th {\n",
       "        vertical-align: top;\n",
       "    }\n",
       "\n",
       "    .dataframe thead th {\n",
       "        text-align: right;\n",
       "    }\n",
       "</style>\n",
       "<table border=\"1\" class=\"dataframe\">\n",
       "  <thead>\n",
       "    <tr style=\"text-align: right;\">\n",
       "      <th></th>\n",
       "      <th>STATE</th>\n",
       "      <th>SEX</th>\n",
       "      <th>EDUCATION</th>\n",
       "      <th>A_AGE</th>\n",
       "      <th>PTOTVAL</th>\n",
       "    </tr>\n",
       "  </thead>\n",
       "  <tbody>\n",
       "    <tr>\n",
       "      <th>0</th>\n",
       "      <td>maine</td>\n",
       "      <td>Female</td>\n",
       "      <td>High school</td>\n",
       "      <td>66</td>\n",
       "      <td>12120</td>\n",
       "    </tr>\n",
       "    <tr>\n",
       "      <th>1</th>\n",
       "      <td>maine</td>\n",
       "      <td>Female</td>\n",
       "      <td>High school</td>\n",
       "      <td>68</td>\n",
       "      <td>16800</td>\n",
       "    </tr>\n",
       "    <tr>\n",
       "      <th>2</th>\n",
       "      <td>maine</td>\n",
       "      <td>Female</td>\n",
       "      <td>High school</td>\n",
       "      <td>52</td>\n",
       "      <td>8137</td>\n",
       "    </tr>\n",
       "    <tr>\n",
       "      <th>3</th>\n",
       "      <td>maine</td>\n",
       "      <td>Male</td>\n",
       "      <td>Some college but no degree</td>\n",
       "      <td>51</td>\n",
       "      <td>42000</td>\n",
       "    </tr>\n",
       "    <tr>\n",
       "      <th>4</th>\n",
       "      <td>maine</td>\n",
       "      <td>Female</td>\n",
       "      <td>High school</td>\n",
       "      <td>78</td>\n",
       "      <td>14713</td>\n",
       "    </tr>\n",
       "  </tbody>\n",
       "</table>\n",
       "</div>"
      ],
      "text/plain": [
       "   STATE     SEX                   EDUCATION  A_AGE  PTOTVAL\n",
       "0  maine  Female                 High school     66    12120\n",
       "1  maine  Female                 High school     68    16800\n",
       "2  maine  Female                 High school     52     8137\n",
       "3  maine    Male  Some college but no degree     51    42000\n",
       "4  maine  Female                 High school     78    14713"
      ]
     },
     "execution_count": 3,
     "metadata": {},
     "output_type": "execute_result"
    }
   ],
   "source": [
    "import pandas as pd\n",
    "\n",
    "df_census = pd.read_csv('https://raw.githubusercontent.com/divexplorer/divexplorer/main/datasets/census_income.csv')\n",
    "df_census.head()"
   ]
  },
  {
   "cell_type": "markdown",
   "metadata": {},
   "source": [
    "DivExplorer works on discretized data (we published a [study](https://divexplorer.github.io) on how to discretize datasets, and we will soon extend this code with automatic discretization, but for now you have to provide discretized datasets). \n",
    "Using age with one-year resolution may be too fine; let us define an `age_range` column with age discretized in decades. "
   ]
  },
  {
   "cell_type": "code",
   "execution_count": 4,
   "metadata": {},
   "outputs": [
    {
     "data": {
      "text/html": [
       "<div>\n",
       "<style scoped>\n",
       "    .dataframe tbody tr th:only-of-type {\n",
       "        vertical-align: middle;\n",
       "    }\n",
       "\n",
       "    .dataframe tbody tr th {\n",
       "        vertical-align: top;\n",
       "    }\n",
       "\n",
       "    .dataframe thead th {\n",
       "        text-align: right;\n",
       "    }\n",
       "</style>\n",
       "<table border=\"1\" class=\"dataframe\">\n",
       "  <thead>\n",
       "    <tr style=\"text-align: right;\">\n",
       "      <th></th>\n",
       "      <th>STATE</th>\n",
       "      <th>SEX</th>\n",
       "      <th>EDUCATION</th>\n",
       "      <th>A_AGE</th>\n",
       "      <th>PTOTVAL</th>\n",
       "      <th>AGE_RANGE</th>\n",
       "    </tr>\n",
       "  </thead>\n",
       "  <tbody>\n",
       "    <tr>\n",
       "      <th>0</th>\n",
       "      <td>maine</td>\n",
       "      <td>Female</td>\n",
       "      <td>High school</td>\n",
       "      <td>66</td>\n",
       "      <td>12120</td>\n",
       "      <td>60</td>\n",
       "    </tr>\n",
       "    <tr>\n",
       "      <th>1</th>\n",
       "      <td>maine</td>\n",
       "      <td>Female</td>\n",
       "      <td>High school</td>\n",
       "      <td>68</td>\n",
       "      <td>16800</td>\n",
       "      <td>60</td>\n",
       "    </tr>\n",
       "    <tr>\n",
       "      <th>2</th>\n",
       "      <td>maine</td>\n",
       "      <td>Female</td>\n",
       "      <td>High school</td>\n",
       "      <td>52</td>\n",
       "      <td>8137</td>\n",
       "      <td>50</td>\n",
       "    </tr>\n",
       "    <tr>\n",
       "      <th>3</th>\n",
       "      <td>maine</td>\n",
       "      <td>Male</td>\n",
       "      <td>Some college but no degree</td>\n",
       "      <td>51</td>\n",
       "      <td>42000</td>\n",
       "      <td>50</td>\n",
       "    </tr>\n",
       "    <tr>\n",
       "      <th>4</th>\n",
       "      <td>maine</td>\n",
       "      <td>Female</td>\n",
       "      <td>High school</td>\n",
       "      <td>78</td>\n",
       "      <td>14713</td>\n",
       "      <td>70</td>\n",
       "    </tr>\n",
       "  </tbody>\n",
       "</table>\n",
       "</div>"
      ],
      "text/plain": [
       "   STATE     SEX                   EDUCATION  A_AGE  PTOTVAL  AGE_RANGE\n",
       "0  maine  Female                 High school     66    12120         60\n",
       "1  maine  Female                 High school     68    16800         60\n",
       "2  maine  Female                 High school     52     8137         50\n",
       "3  maine    Male  Some college but no degree     51    42000         50\n",
       "4  maine  Female                 High school     78    14713         70"
      ]
     },
     "execution_count": 4,
     "metadata": {},
     "output_type": "execute_result"
    }
   ],
   "source": [
    "df_census[\"AGE_RANGE\"] = df_census.apply(lambda row : 10 * (row[\"A_AGE\"] // 10), axis=1)\n",
    "df_census.head()"
   ]
  },
  {
   "cell_type": "markdown",
   "metadata": {},
   "source": [
    "Great, let's find those subgroups.  Subgroups search is done via the `DivergenceExplorer` class. "
   ]
  },
  {
   "cell_type": "code",
   "execution_count": 5,
   "metadata": {},
   "outputs": [],
   "source": [
    "fp_diver = DivergenceExplorer(df_census)"
   ]
  },
  {
   "cell_type": "markdown",
   "metadata": {},
   "source": [
    "To find the subgroups, we need to specify: \n",
    "* The column whose average is to be minimized or maximized.  We specify this via the `quantitative_outcomes` parameter.  This is a list of column names whose divergence is of interest. \n",
    "* The _minimum support_ of the search.  This is specified via the `min_support` parameter, and corresponds to the minimum fraction of dataset that must be contained in any returned subgroup.  \n",
    "* The attributes we want to use to define subgroups.  We specify this via the `attributes` parameter.  This is a list of column names whose values will be used to define subgroups. If missing, all columns except outcomes are used. \n",
    "\n",
    "Specifying a minimum support is useful to bound the search, and to ensure that the returned subgroups are not too small and the divergence is statistically significant.\n",
    "A minimum support of 0.001 indicates that subgroups must contain at least 0.1% of the dataset."
   ]
  },
  {
   "cell_type": "code",
   "execution_count": 6,
   "metadata": {},
   "outputs": [
    {
     "data": {
      "text/html": [
       "<div>\n",
       "<style scoped>\n",
       "    .dataframe tbody tr th:only-of-type {\n",
       "        vertical-align: middle;\n",
       "    }\n",
       "\n",
       "    .dataframe tbody tr th {\n",
       "        vertical-align: top;\n",
       "    }\n",
       "\n",
       "    .dataframe thead th {\n",
       "        text-align: right;\n",
       "    }\n",
       "</style>\n",
       "<table border=\"1\" class=\"dataframe\">\n",
       "  <thead>\n",
       "    <tr style=\"text-align: right;\">\n",
       "      <th></th>\n",
       "      <th>itemset</th>\n",
       "      <th>support</th>\n",
       "      <th>support_count</th>\n",
       "      <th>length</th>\n",
       "      <th>PTOTVAL_count</th>\n",
       "      <th>PTOTVAL</th>\n",
       "      <th>PTOTVAL_div</th>\n",
       "      <th>PTOTVAL_t</th>\n",
       "    </tr>\n",
       "  </thead>\n",
       "  <tbody>\n",
       "    <tr>\n",
       "      <th>0</th>\n",
       "      <td>(SEX=Male, EDUCATION=Professional, AGE_RANGE=40)</td>\n",
       "      <td>0.001129</td>\n",
       "      <td>165</td>\n",
       "      <td>3</td>\n",
       "      <td>165.0</td>\n",
       "      <td>248210.406061</td>\n",
       "      <td>206751.799469</td>\n",
       "      <td>10.855545</td>\n",
       "    </tr>\n",
       "    <tr>\n",
       "      <th>1</th>\n",
       "      <td>(EDUCATION=Professional, AGE_RANGE=40)</td>\n",
       "      <td>0.002429</td>\n",
       "      <td>355</td>\n",
       "      <td>2</td>\n",
       "      <td>355.0</td>\n",
       "      <td>207456.191549</td>\n",
       "      <td>165997.584958</td>\n",
       "      <td>14.157974</td>\n",
       "    </tr>\n",
       "    <tr>\n",
       "      <th>2</th>\n",
       "      <td>(AGE_RANGE=50, EDUCATION=Professional)</td>\n",
       "      <td>0.001759</td>\n",
       "      <td>257</td>\n",
       "      <td>2</td>\n",
       "      <td>257.0</td>\n",
       "      <td>192899.428016</td>\n",
       "      <td>151440.821424</td>\n",
       "      <td>12.651215</td>\n",
       "    </tr>\n",
       "    <tr>\n",
       "      <th>3</th>\n",
       "      <td>(EDUCATION=Doctorate, SEX=Male, AGE_RANGE=50)</td>\n",
       "      <td>0.001601</td>\n",
       "      <td>234</td>\n",
       "      <td>3</td>\n",
       "      <td>234.0</td>\n",
       "      <td>186660.354701</td>\n",
       "      <td>145201.748110</td>\n",
       "      <td>11.941443</td>\n",
       "    </tr>\n",
       "    <tr>\n",
       "      <th>4</th>\n",
       "      <td>(EDUCATION=Doctorate, SEX=Male, AGE_RANGE=40)</td>\n",
       "      <td>0.001533</td>\n",
       "      <td>224</td>\n",
       "      <td>3</td>\n",
       "      <td>224.0</td>\n",
       "      <td>185358.575893</td>\n",
       "      <td>143899.969302</td>\n",
       "      <td>13.573464</td>\n",
       "    </tr>\n",
       "    <tr>\n",
       "      <th>5</th>\n",
       "      <td>(SEX=Male, EDUCATION=Professional)</td>\n",
       "      <td>0.005413</td>\n",
       "      <td>791</td>\n",
       "      <td>2</td>\n",
       "      <td>791.0</td>\n",
       "      <td>175549.437421</td>\n",
       "      <td>134090.830830</td>\n",
       "      <td>19.951770</td>\n",
       "    </tr>\n",
       "    <tr>\n",
       "      <th>6</th>\n",
       "      <td>(EDUCATION=Doctorate, AGE_RANGE=50)</td>\n",
       "      <td>0.002833</td>\n",
       "      <td>414</td>\n",
       "      <td>2</td>\n",
       "      <td>414.0</td>\n",
       "      <td>168553.306763</td>\n",
       "      <td>127094.700172</td>\n",
       "      <td>15.438620</td>\n",
       "    </tr>\n",
       "    <tr>\n",
       "      <th>7</th>\n",
       "      <td>(SEX=Female, EDUCATION=Professional, AGE_RANGE...</td>\n",
       "      <td>0.001239</td>\n",
       "      <td>181</td>\n",
       "      <td>3</td>\n",
       "      <td>181.0</td>\n",
       "      <td>167925.044199</td>\n",
       "      <td>126466.437608</td>\n",
       "      <td>9.035660</td>\n",
       "    </tr>\n",
       "    <tr>\n",
       "      <th>8</th>\n",
       "      <td>(EDUCATION=Doctorate, AGE_RANGE=40)</td>\n",
       "      <td>0.003250</td>\n",
       "      <td>475</td>\n",
       "      <td>2</td>\n",
       "      <td>475.0</td>\n",
       "      <td>160665.410526</td>\n",
       "      <td>119206.803935</td>\n",
       "      <td>18.356290</td>\n",
       "    </tr>\n",
       "    <tr>\n",
       "      <th>9</th>\n",
       "      <td>(EDUCATION=Doctorate, SEX=Male, AGE_RANGE=30)</td>\n",
       "      <td>0.001615</td>\n",
       "      <td>236</td>\n",
       "      <td>3</td>\n",
       "      <td>236.0</td>\n",
       "      <td>153487.627119</td>\n",
       "      <td>112029.020527</td>\n",
       "      <td>13.050126</td>\n",
       "    </tr>\n",
       "  </tbody>\n",
       "</table>\n",
       "</div>"
      ],
      "text/plain": [
       "                                             itemset   support  support_count  \\\n",
       "0   (SEX=Male, EDUCATION=Professional, AGE_RANGE=40)  0.001129            165   \n",
       "1             (EDUCATION=Professional, AGE_RANGE=40)  0.002429            355   \n",
       "2             (AGE_RANGE=50, EDUCATION=Professional)  0.001759            257   \n",
       "3      (EDUCATION=Doctorate, SEX=Male, AGE_RANGE=50)  0.001601            234   \n",
       "4      (EDUCATION=Doctorate, SEX=Male, AGE_RANGE=40)  0.001533            224   \n",
       "5                 (SEX=Male, EDUCATION=Professional)  0.005413            791   \n",
       "6                (EDUCATION=Doctorate, AGE_RANGE=50)  0.002833            414   \n",
       "7  (SEX=Female, EDUCATION=Professional, AGE_RANGE...  0.001239            181   \n",
       "8                (EDUCATION=Doctorate, AGE_RANGE=40)  0.003250            475   \n",
       "9      (EDUCATION=Doctorate, SEX=Male, AGE_RANGE=30)  0.001615            236   \n",
       "\n",
       "   length  PTOTVAL_count        PTOTVAL    PTOTVAL_div  PTOTVAL_t  \n",
       "0       3          165.0  248210.406061  206751.799469  10.855545  \n",
       "1       2          355.0  207456.191549  165997.584958  14.157974  \n",
       "2       2          257.0  192899.428016  151440.821424  12.651215  \n",
       "3       3          234.0  186660.354701  145201.748110  11.941443  \n",
       "4       3          224.0  185358.575893  143899.969302  13.573464  \n",
       "5       2          791.0  175549.437421  134090.830830  19.951770  \n",
       "6       2          414.0  168553.306763  127094.700172  15.438620  \n",
       "7       3          181.0  167925.044199  126466.437608   9.035660  \n",
       "8       2          475.0  160665.410526  119206.803935  18.356290  \n",
       "9       3          236.0  153487.627119  112029.020527  13.050126  "
      ]
     },
     "execution_count": 6,
     "metadata": {},
     "output_type": "execute_result"
    }
   ],
   "source": [
    "subgroups = fp_diver.get_pattern_divergence(\n",
    "    attributes=['SEX', 'EDUCATION', 'AGE_RANGE'],\n",
    "    min_support=0.001, quantitative_outcomes=[\"PTOTVAL\"])\n",
    "subgroups = subgroups.sort_values(by=\"PTOTVAL_div\", ascending=False, ignore_index=True)\n",
    "subgroups.head(10)"
   ]
  },
  {
   "cell_type": "markdown",
   "metadata": {},
   "source": [
    "Let's look at the columns in the result: \n",
    "* The first column is an id that is useful to refer to the subgroup.\n",
    "* `support` is the fraction of the dataset contained in the subgroup.\n",
    "* `itemset` is the set of items (set of parameters) defining the subgroup. \n",
    "* `PTOTVAL` is the average value of the `PTOTVAL` column in the subgroup, that is, for us, the average income in the subgroup. \n",
    "* `PTOTVAL_div` is the difference between the average income in the subgroup and the average income in the dataset.  This is the divergence value, and the column we are interested in.  The larger the divergence value, the more divergent the subgroup.\n",
    "* `PTOTVAL_t` is the t-statistic of the divergence value.  This is useful to assess the statistical significance of the divergence value.  The larger the t-statistic, the more significant the divergence value.\n",
    "* `length` is the number of items in the subgroup.\n",
    "* `support_count` is the number of rows of the original dataframe that belong to the subgroup."
   ]
  },
  {
   "cell_type": "markdown",
   "metadata": {},
   "source": [
    "### Redundancy pruning\n",
    "\n",
    "Often, we get too many subgroups that are too similar.  We would like to \"prune\" the subgroups, keeping only the items (the attribute=value pairs) that contribute the most divergence.  We can do this via redundancy pruning.  In the following example, if adding an item does not modify (increase or decrease) the divergence value by at least 20,000, we remove it.  "
   ]
  },
  {
   "cell_type": "code",
   "execution_count": 7,
   "metadata": {},
   "outputs": [
    {
     "data": {
      "text/html": [
       "<div>\n",
       "<style scoped>\n",
       "    .dataframe tbody tr th:only-of-type {\n",
       "        vertical-align: middle;\n",
       "    }\n",
       "\n",
       "    .dataframe tbody tr th {\n",
       "        vertical-align: top;\n",
       "    }\n",
       "\n",
       "    .dataframe thead th {\n",
       "        text-align: right;\n",
       "    }\n",
       "</style>\n",
       "<table border=\"1\" class=\"dataframe\">\n",
       "  <thead>\n",
       "    <tr style=\"text-align: right;\">\n",
       "      <th></th>\n",
       "      <th>support</th>\n",
       "      <th>itemset</th>\n",
       "      <th>length</th>\n",
       "      <th>support_count</th>\n",
       "      <th>PTOTVAL</th>\n",
       "      <th>PTOTVAL_div</th>\n",
       "      <th>PTOTVAL_t</th>\n",
       "    </tr>\n",
       "  </thead>\n",
       "  <tbody>\n",
       "    <tr>\n",
       "      <th>0</th>\n",
       "      <td>0.001129</td>\n",
       "      <td>(SEX=Male, EDUCATION=Professional, AGE_RANGE=40)</td>\n",
       "      <td>3</td>\n",
       "      <td>165</td>\n",
       "      <td>248210.406061</td>\n",
       "      <td>206751.799469</td>\n",
       "      <td>10.855545</td>\n",
       "    </tr>\n",
       "    <tr>\n",
       "      <th>1</th>\n",
       "      <td>0.002429</td>\n",
       "      <td>(EDUCATION=Professional, AGE_RANGE=40)</td>\n",
       "      <td>2</td>\n",
       "      <td>355</td>\n",
       "      <td>207456.191549</td>\n",
       "      <td>165997.584958</td>\n",
       "      <td>14.157974</td>\n",
       "    </tr>\n",
       "    <tr>\n",
       "      <th>2</th>\n",
       "      <td>0.001759</td>\n",
       "      <td>(AGE_RANGE=50, EDUCATION=Professional)</td>\n",
       "      <td>2</td>\n",
       "      <td>257</td>\n",
       "      <td>192899.428016</td>\n",
       "      <td>151440.821424</td>\n",
       "      <td>12.651215</td>\n",
       "    </tr>\n",
       "    <tr>\n",
       "      <th>4</th>\n",
       "      <td>0.001533</td>\n",
       "      <td>(EDUCATION=Doctorate, SEX=Male, AGE_RANGE=40)</td>\n",
       "      <td>3</td>\n",
       "      <td>224</td>\n",
       "      <td>185358.575893</td>\n",
       "      <td>143899.969302</td>\n",
       "      <td>13.573464</td>\n",
       "    </tr>\n",
       "    <tr>\n",
       "      <th>5</th>\n",
       "      <td>0.005413</td>\n",
       "      <td>(SEX=Male, EDUCATION=Professional)</td>\n",
       "      <td>2</td>\n",
       "      <td>791</td>\n",
       "      <td>175549.437421</td>\n",
       "      <td>134090.830830</td>\n",
       "      <td>19.951770</td>\n",
       "    </tr>\n",
       "    <tr>\n",
       "      <th>6</th>\n",
       "      <td>0.002833</td>\n",
       "      <td>(EDUCATION=Doctorate, AGE_RANGE=50)</td>\n",
       "      <td>2</td>\n",
       "      <td>414</td>\n",
       "      <td>168553.306763</td>\n",
       "      <td>127094.700172</td>\n",
       "      <td>15.438620</td>\n",
       "    </tr>\n",
       "    <tr>\n",
       "      <th>7</th>\n",
       "      <td>0.001239</td>\n",
       "      <td>(SEX=Female, EDUCATION=Professional, AGE_RANGE...</td>\n",
       "      <td>3</td>\n",
       "      <td>181</td>\n",
       "      <td>167925.044199</td>\n",
       "      <td>126466.437608</td>\n",
       "      <td>9.035660</td>\n",
       "    </tr>\n",
       "    <tr>\n",
       "      <th>8</th>\n",
       "      <td>0.003250</td>\n",
       "      <td>(EDUCATION=Doctorate, AGE_RANGE=40)</td>\n",
       "      <td>2</td>\n",
       "      <td>475</td>\n",
       "      <td>160665.410526</td>\n",
       "      <td>119206.803935</td>\n",
       "      <td>18.356290</td>\n",
       "    </tr>\n",
       "    <tr>\n",
       "      <th>10</th>\n",
       "      <td>0.010627</td>\n",
       "      <td>(EDUCATION=Professional)</td>\n",
       "      <td>1</td>\n",
       "      <td>1553</td>\n",
       "      <td>152547.735351</td>\n",
       "      <td>111089.128760</td>\n",
       "      <td>25.715107</td>\n",
       "    </tr>\n",
       "    <tr>\n",
       "      <th>12</th>\n",
       "      <td>0.005680</td>\n",
       "      <td>(AGE_RANGE=50, EDUCATION=Master, SEX=Male)</td>\n",
       "      <td>3</td>\n",
       "      <td>830</td>\n",
       "      <td>149566.365060</td>\n",
       "      <td>108107.758469</td>\n",
       "      <td>21.397630</td>\n",
       "    </tr>\n",
       "  </tbody>\n",
       "</table>\n",
       "</div>"
      ],
      "text/plain": [
       "     support                                            itemset  length  \\\n",
       "0   0.001129   (SEX=Male, EDUCATION=Professional, AGE_RANGE=40)       3   \n",
       "1   0.002429             (EDUCATION=Professional, AGE_RANGE=40)       2   \n",
       "2   0.001759             (AGE_RANGE=50, EDUCATION=Professional)       2   \n",
       "4   0.001533      (EDUCATION=Doctorate, SEX=Male, AGE_RANGE=40)       3   \n",
       "5   0.005413                 (SEX=Male, EDUCATION=Professional)       2   \n",
       "6   0.002833                (EDUCATION=Doctorate, AGE_RANGE=50)       2   \n",
       "7   0.001239  (SEX=Female, EDUCATION=Professional, AGE_RANGE...       3   \n",
       "8   0.003250                (EDUCATION=Doctorate, AGE_RANGE=40)       2   \n",
       "10  0.010627                           (EDUCATION=Professional)       1   \n",
       "12  0.005680         (AGE_RANGE=50, EDUCATION=Master, SEX=Male)       3   \n",
       "\n",
       "    support_count        PTOTVAL    PTOTVAL_div  PTOTVAL_t  \n",
       "0             165  248210.406061  206751.799469  10.855545  \n",
       "1             355  207456.191549  165997.584958  14.157974  \n",
       "2             257  192899.428016  151440.821424  12.651215  \n",
       "4             224  185358.575893  143899.969302  13.573464  \n",
       "5             791  175549.437421  134090.830830  19.951770  \n",
       "6             414  168553.306763  127094.700172  15.438620  \n",
       "7             181  167925.044199  126466.437608   9.035660  \n",
       "8             475  160665.410526  119206.803935  18.356290  \n",
       "10           1553  152547.735351  111089.128760  25.715107  \n",
       "12            830  149566.365060  108107.758469  21.397630  "
      ]
     },
     "execution_count": 7,
     "metadata": {},
     "output_type": "execute_result"
    }
   ],
   "source": [
    "processor = DivergencePatternProcessor(subgroups, \"PTOTVAL\")\n",
    "df_pruned = processor.redundancy_pruning(th_redundancy=20000)\n",
    "df_pruned.head(10)"
   ]
  },
  {
   "cell_type": "markdown",
   "metadata": {},
   "source": [
    "### Shapley Values to explain divergence in subgroups\n",
    "\n",
    "We see that the most divergent subgroup is (EDUCATION=Professional, SEX=Male, AGE_RANGE=40). This subgroup has an average income of 246,323, which is 204,865 higher than the average income in the dataset.  The t-statistic is 11, which indicates extremely high significance. There are 170 instances (people in original census dataset) in this subgroup. "
   ]
  },
  {
   "cell_type": "code",
   "execution_count": 8,
   "metadata": {},
   "outputs": [
    {
     "data": {
      "text/plain": [
       "frozenset({'AGE_RANGE=40', 'EDUCATION=Professional', 'SEX=Male'})"
      ]
     },
     "execution_count": 8,
     "metadata": {},
     "output_type": "execute_result"
    }
   ],
   "source": [
    "pattern = subgroups['itemset'].iloc[0]\n",
    "pattern"
   ]
  },
  {
   "cell_type": "markdown",
   "metadata": {},
   "source": [
    "Once we have identified this pattern, the obvious question is: which of the three factors, age range, education, or sex, contributes mostly to the difference in income?  To answer this question, we compute the [Shapley value](https://en.wikipedia.org/wiki/Shapley_value) of the attributes in the (EDUCATION=Professional, SEX=Male, AGE_RANGE=40) coalition.  We do this via the help of the `DivergencePatternProcessor` class.  The Shapley value is a measure of the contribution of each attribute to the divergence value.  The higher the Shapley value, the more the attribute contributes to the divergence value.  The Shapley value is normalized, so that the sum of the Shapley values of all attributes is the divergence of the whole subgroup."
   ]
  },
  {
   "cell_type": "code",
   "execution_count": 9,
   "metadata": {},
   "outputs": [],
   "source": [
    "processor = DivergencePatternProcessor(subgroups, 'PTOTVAL')"
   ]
  },
  {
   "cell_type": "markdown",
   "metadata": {},
   "source": [
    "We can print the Shapley values... "
   ]
  },
  {
   "cell_type": "code",
   "execution_count": 10,
   "metadata": {},
   "outputs": [
    {
     "data": {
      "text/plain": [
       "{frozenset({'SEX=Male'}): 23018.165956315985,\n",
       " frozenset({'EDUCATION=Professional'}): 133255.90699293802,\n",
       " frozenset({'AGE_RANGE=40'}): 50477.72652009613}"
      ]
     },
     "execution_count": 10,
     "metadata": {},
     "output_type": "execute_result"
    }
   ],
   "source": [
    "processor.shapley_value(pattern)"
   ]
  },
  {
   "cell_type": "markdown",
   "metadata": {},
   "source": [
    "... and we can plot them: "
   ]
  },
  {
   "cell_type": "code",
   "execution_count": 11,
   "metadata": {},
   "outputs": [
    {
     "data": {
      "image/png": "[encoded data removed]",
      "text/plain": [
       "<Figure size 200x200 with 1 Axes>"
      ]
     },
     "metadata": {},
     "output_type": "display_data"
    }
   ],
   "source": [
    "processor.plot_shapley_value(pattern=pattern, figsize=(2,2), title=\"Item contribution\")"
   ]
  },
  {
   "cell_type": "markdown",
   "metadata": {},
   "source": [
    "As we see, the most important factor is the educational level, followed by age range, followed by sex. "
   ]
  },
  {
   "cell_type": "markdown",
   "metadata": {},
   "source": [
    "## Outcomes\n",
    "\n",
    "When looking for divergence, DivExplorer considers an _outcome_. \n",
    "The outcome is a column whose values can be either floating-point numbers, or NaN.\n",
    "DivExplorer will compute, for each subgroup, the average of all non-NaN values. \n",
    "\n",
    "Precisely, if $\\alpha$ is the outcome, DivExplorer computes for every subgroup $S$: \n",
    "\n",
    "$$\n",
    "f_\\alpha(S) = E[\\alpha \\mid \\alpha \\neq NaN]\n",
    "$$\n",
    "\n",
    "The divergence of $S$ is then defined by:\n",
    "\n",
    "$$\n",
    "\\Delta_\\alpha(S) = f_\\alpha(S) - f_\\alpha(D) , \n",
    "$$\n",
    "\n",
    "where $D$ is the whole dataset.\n"
   ]
  },
  {
   "cell_type": "markdown",
   "metadata": {},
   "source": [
    "# Divergence in Classifiers\n",
    "\n",
    "DivExplorer can also be used to analyze the divergence in the performance of classifiers, studying for instance how different subgroups differ in their false positive or false negative rates, accuracy, and so on. \n",
    "This yields insights on how the classifier performs on different subgroups, and can be used to detect bias."
   ]
  },
  {
   "cell_type": "markdown",
   "metadata": {
    "ExecuteTime": {
     "end_time": "2021-06-11T17:27:41.995139Z",
     "start_time": "2021-06-11T17:27:41.990917Z"
    }
   },
   "source": [
    "## Example: False Positive Rate in COMPAS\n",
    "\n",
    "As an example, we consider how to find the data subgroups in the  [COMPAS](https://www.propublica.org/article/how-we-analyzed-the-compas-recidivism-algorithm) dataset that have greatest divergence in false positive rate.\n",
    "\n",
    "The COMPAS dataset contains demographic information and the criminal history of defendants. \n",
    "The goal is to predict whether defendants will recidivate (commit another crime) in the next two years.\n",
    "A false positive is a defendant that is predicted to recidivate, but does not.\n",
    "Subgroups with higher false-positive rate are subgroups that are most disadvantaged by the classifier decisions. \n",
    "\n",
    "To identify them, we begin by importing a discretized version of the COMPAS dataset. "
   ]
  },
  {
   "cell_type": "code",
   "execution_count": 12,
   "metadata": {},
   "outputs": [
    {
     "data": {
      "text/html": [
       "<div>\n",
       "<style scoped>\n",
       "    .dataframe tbody tr th:only-of-type {\n",
       "        vertical-align: middle;\n",
       "    }\n",
       "\n",
       "    .dataframe tbody tr th {\n",
       "        vertical-align: top;\n",
       "    }\n",
       "\n",
       "    .dataframe thead th {\n",
       "        text-align: right;\n",
       "    }\n",
       "</style>\n",
       "<table border=\"1\" class=\"dataframe\">\n",
       "  <thead>\n",
       "    <tr style=\"text-align: right;\">\n",
       "      <th></th>\n",
       "      <th>age</th>\n",
       "      <th>charge</th>\n",
       "      <th>race</th>\n",
       "      <th>sex</th>\n",
       "      <th>#prior</th>\n",
       "      <th>stay</th>\n",
       "      <th>class</th>\n",
       "      <th>predicted</th>\n",
       "    </tr>\n",
       "  </thead>\n",
       "  <tbody>\n",
       "    <tr>\n",
       "      <th>0</th>\n",
       "      <td>&gt;45</td>\n",
       "      <td>F</td>\n",
       "      <td>Other</td>\n",
       "      <td>Male</td>\n",
       "      <td>0</td>\n",
       "      <td>&lt;week</td>\n",
       "      <td>0</td>\n",
       "      <td>0</td>\n",
       "    </tr>\n",
       "    <tr>\n",
       "      <th>1</th>\n",
       "      <td>25-45</td>\n",
       "      <td>F</td>\n",
       "      <td>Afr-Am</td>\n",
       "      <td>Male</td>\n",
       "      <td>0</td>\n",
       "      <td>1w-3M</td>\n",
       "      <td>1</td>\n",
       "      <td>0</td>\n",
       "    </tr>\n",
       "    <tr>\n",
       "      <th>2</th>\n",
       "      <td>&lt;25</td>\n",
       "      <td>F</td>\n",
       "      <td>Afr-Am</td>\n",
       "      <td>Male</td>\n",
       "      <td>&gt;3</td>\n",
       "      <td>&lt;week</td>\n",
       "      <td>1</td>\n",
       "      <td>0</td>\n",
       "    </tr>\n",
       "    <tr>\n",
       "      <th>3</th>\n",
       "      <td>25-45</td>\n",
       "      <td>M</td>\n",
       "      <td>Other</td>\n",
       "      <td>Male</td>\n",
       "      <td>0</td>\n",
       "      <td>&lt;week</td>\n",
       "      <td>0</td>\n",
       "      <td>0</td>\n",
       "    </tr>\n",
       "    <tr>\n",
       "      <th>4</th>\n",
       "      <td>25-45</td>\n",
       "      <td>F</td>\n",
       "      <td>Cauc</td>\n",
       "      <td>Male</td>\n",
       "      <td>&gt;3</td>\n",
       "      <td>&lt;week</td>\n",
       "      <td>1</td>\n",
       "      <td>0</td>\n",
       "    </tr>\n",
       "  </tbody>\n",
       "</table>\n",
       "</div>"
      ],
      "text/plain": [
       "     age charge    race   sex #prior   stay  class  predicted\n",
       "0    >45      F   Other  Male      0  <week      0          0\n",
       "1  25-45      F  Afr-Am  Male      0  1w-3M      1          0\n",
       "2    <25      F  Afr-Am  Male     >3  <week      1          0\n",
       "3  25-45      M   Other  Male      0  <week      0          0\n",
       "4  25-45      F    Cauc  Male     >3  <week      1          0"
      ]
     },
     "execution_count": 12,
     "metadata": {},
     "output_type": "execute_result"
    }
   ],
   "source": [
    "\n",
    "compas_df = pd.read_csv('https://raw.githubusercontent.com/divexplorer/divexplorer/main/datasets/compas_discretized.csv')\n",
    "compas_df.head()"
   ]
  },
  {
   "cell_type": "markdown",
   "metadata": {},
   "source": [
    "The COMPAS dataset contains demographic information and the criminal history of defendants.\n",
    "For each criminal defendant, the following attributes are available:\n",
    "- `age`: age category of the defendant. \n",
    "- `charge`: severity of the charge. 'M'='Misdemeanor','F'='Felony' \n",
    "- `race`: 'Afr-Am', 'Asian', 'Cauc', 'Hispanic', 'Native American', 'Other'\n",
    "- `sex`: 'Female', 'Male'\n",
    "- `#prior`: number of prior crimes committed by the defendant\n",
    "- `stay`: length of previous stay in jail. \n",
    "\n",
    "For each defendant, the dataset also records:\n",
    "\n",
    "- the (true) `class`, whether the defendant recidivated (was arrested again) in the next two years. It is 1 if the defendant recidivated, 0 otherwise.\n",
    "- the `predicted` recidivism, derived from the COMPAS score of recidivism risk. Again, a value of 1 indicates a prediction of recidivism."
   ]
  },
  {
   "cell_type": "markdown",
   "metadata": {},
   "source": [
    "### Encoding the false-positive rate as an outcome\n",
    "\n",
    "To study the false-positive rate, we add an outcome column `fp` whose average yields the false-positive rate, like so: "
   ]
  },
  {
   "cell_type": "code",
   "execution_count": 13,
   "metadata": {},
   "outputs": [
    {
     "data": {
      "text/html": [
       "<div>\n",
       "<style scoped>\n",
       "    .dataframe tbody tr th:only-of-type {\n",
       "        vertical-align: middle;\n",
       "    }\n",
       "\n",
       "    .dataframe tbody tr th {\n",
       "        vertical-align: top;\n",
       "    }\n",
       "\n",
       "    .dataframe thead th {\n",
       "        text-align: right;\n",
       "    }\n",
       "</style>\n",
       "<table border=\"1\" class=\"dataframe\">\n",
       "  <thead>\n",
       "    <tr style=\"text-align: right;\">\n",
       "      <th></th>\n",
       "      <th>age</th>\n",
       "      <th>charge</th>\n",
       "      <th>race</th>\n",
       "      <th>sex</th>\n",
       "      <th>#prior</th>\n",
       "      <th>stay</th>\n",
       "      <th>class</th>\n",
       "      <th>predicted</th>\n",
       "      <th>fp</th>\n",
       "    </tr>\n",
       "  </thead>\n",
       "  <tbody>\n",
       "    <tr>\n",
       "      <th>105</th>\n",
       "      <td>25-45</td>\n",
       "      <td>F</td>\n",
       "      <td>Afr-Am</td>\n",
       "      <td>Male</td>\n",
       "      <td>[1,3]</td>\n",
       "      <td>&lt;week</td>\n",
       "      <td>1</td>\n",
       "      <td>1</td>\n",
       "      <td>NaN</td>\n",
       "    </tr>\n",
       "    <tr>\n",
       "      <th>106</th>\n",
       "      <td>&gt;45</td>\n",
       "      <td>M</td>\n",
       "      <td>Cauc</td>\n",
       "      <td>Male</td>\n",
       "      <td>[1,3]</td>\n",
       "      <td>&lt;week</td>\n",
       "      <td>0</td>\n",
       "      <td>1</td>\n",
       "      <td>1.0</td>\n",
       "    </tr>\n",
       "    <tr>\n",
       "      <th>107</th>\n",
       "      <td>25-45</td>\n",
       "      <td>F</td>\n",
       "      <td>Afr-Am</td>\n",
       "      <td>Male</td>\n",
       "      <td>&gt;3</td>\n",
       "      <td>&lt;week</td>\n",
       "      <td>1</td>\n",
       "      <td>1</td>\n",
       "      <td>NaN</td>\n",
       "    </tr>\n",
       "    <tr>\n",
       "      <th>108</th>\n",
       "      <td>25-45</td>\n",
       "      <td>F</td>\n",
       "      <td>Cauc</td>\n",
       "      <td>Male</td>\n",
       "      <td>&gt;3</td>\n",
       "      <td>&lt;week</td>\n",
       "      <td>0</td>\n",
       "      <td>0</td>\n",
       "      <td>0.0</td>\n",
       "    </tr>\n",
       "    <tr>\n",
       "      <th>109</th>\n",
       "      <td>25-45</td>\n",
       "      <td>F</td>\n",
       "      <td>Cauc</td>\n",
       "      <td>Female</td>\n",
       "      <td>[1,3]</td>\n",
       "      <td>&lt;week</td>\n",
       "      <td>0</td>\n",
       "      <td>0</td>\n",
       "      <td>0.0</td>\n",
       "    </tr>\n",
       "  </tbody>\n",
       "</table>\n",
       "</div>"
      ],
      "text/plain": [
       "       age charge    race     sex #prior   stay  class  predicted   fp\n",
       "105  25-45      F  Afr-Am    Male  [1,3]  <week      1          1  NaN\n",
       "106    >45      M    Cauc    Male  [1,3]  <week      0          1  1.0\n",
       "107  25-45      F  Afr-Am    Male     >3  <week      1          1  NaN\n",
       "108  25-45      F    Cauc    Male     >3  <week      0          0  0.0\n",
       "109  25-45      F    Cauc  Female  [1,3]  <week      0          0  0.0"
      ]
     },
     "execution_count": 13,
     "metadata": {},
     "output_type": "execute_result"
    }
   ],
   "source": [
    "from divexplorer.outcomes import get_false_positive_rate_outcome\n",
    "\n",
    "y_trues = compas_df[\"class\"]\n",
    "y_preds = compas_df[\"predicted\"]\n",
    "\n",
    "compas_df['fp'] =  get_false_positive_rate_outcome(y_trues, y_preds)\n",
    "compas_df[105:110]"
   ]
  },
  {
   "cell_type": "markdown",
   "metadata": {},
   "source": [
    "The `fp` column has values: \n",
    "\n",
    "* 1, if the data is a false positive (`class` is 0 and `predicted` is 1)\n",
    "* 0, if the data is a true negative (`class` is 0 and `predicted` is 0). \n",
    "* NaN, if the class is positive (`class` is 1).\n",
    "\n",
    "We use NaN values to exclude data from the average, so that the average of the `fp` column is the false-positive rate. "
   ]
  },
  {
   "cell_type": "markdown",
   "metadata": {},
   "source": [
    "### Finding divergent subgroups in a classifier\n",
    "\n",
    "Once this new column is added, we can again ask for divergence.\n",
    "\n",
    "Note how we specify via `attributes` what are the columns we want to use to form the subgroups, to exclude uninteresting columns such as `class` and `predicted`.\n",
    "\n",
    "Note also that `fp` is passed as a `boolean_outcomes`.  The difference between quantitative outcomes (such as income in the census example) and boolean outcomes (such as false-positive rate) are treated lies in how the statistical significance is computed. \n",
    "In both cases, we use [Welch's t-test](https://en.wikipedia.org/wiki/Welch%27s_t-test), but for boolean outcomes, we use the mean and standard deviation of the [Beta distribution](https://en.wikipedia.org/wiki/Beta_distribution) to compute the t-statistic. See the [papers](https://divexplorer.github.io) for details."
   ]
  },
  {
   "cell_type": "code",
   "execution_count": 14,
   "metadata": {},
   "outputs": [
    {
     "data": {
      "text/html": [
       "<div>\n",
       "<style scoped>\n",
       "    .dataframe tbody tr th:only-of-type {\n",
       "        vertical-align: middle;\n",
       "    }\n",
       "\n",
       "    .dataframe tbody tr th {\n",
       "        vertical-align: top;\n",
       "    }\n",
       "\n",
       "    .dataframe thead th {\n",
       "        text-align: right;\n",
       "    }\n",
       "</style>\n",
       "<table border=\"1\" class=\"dataframe\">\n",
       "  <thead>\n",
       "    <tr style=\"text-align: right;\">\n",
       "      <th></th>\n",
       "      <th>itemset</th>\n",
       "      <th>support</th>\n",
       "      <th>support_count</th>\n",
       "      <th>length</th>\n",
       "      <th>fp_count</th>\n",
       "      <th>fp</th>\n",
       "      <th>fp_div</th>\n",
       "      <th>fp_t</th>\n",
       "    </tr>\n",
       "  </thead>\n",
       "  <tbody>\n",
       "    <tr>\n",
       "      <th>0</th>\n",
       "      <td>(#prior=&gt;3, race=Afr-Am, age=25-45)</td>\n",
       "      <td>0.122813</td>\n",
       "      <td>758</td>\n",
       "      <td>3</td>\n",
       "      <td>228.0</td>\n",
       "      <td>0.276316</td>\n",
       "      <td>0.188002</td>\n",
       "      <td>13.683395</td>\n",
       "    </tr>\n",
       "    <tr>\n",
       "      <th>1</th>\n",
       "      <td>(#prior=&gt;3, race=Afr-Am)</td>\n",
       "      <td>0.196695</td>\n",
       "      <td>1214</td>\n",
       "      <td>2</td>\n",
       "      <td>383.0</td>\n",
       "      <td>0.261097</td>\n",
       "      <td>0.172783</td>\n",
       "      <td>15.525674</td>\n",
       "    </tr>\n",
       "    <tr>\n",
       "      <th>2</th>\n",
       "      <td>(#prior=&gt;3, age=25-45)</td>\n",
       "      <td>0.207226</td>\n",
       "      <td>1279</td>\n",
       "      <td>2</td>\n",
       "      <td>397.0</td>\n",
       "      <td>0.251889</td>\n",
       "      <td>0.163575</td>\n",
       "      <td>16.267585</td>\n",
       "    </tr>\n",
       "    <tr>\n",
       "      <th>3</th>\n",
       "      <td>(#prior=&gt;3, sex=Male, race=Afr-Am)</td>\n",
       "      <td>0.146792</td>\n",
       "      <td>906</td>\n",
       "      <td>3</td>\n",
       "      <td>277.0</td>\n",
       "      <td>0.241877</td>\n",
       "      <td>0.153563</td>\n",
       "      <td>14.424100</td>\n",
       "    </tr>\n",
       "    <tr>\n",
       "      <th>4</th>\n",
       "      <td>(#prior=&gt;3, sex=Male, age=25-45)</td>\n",
       "      <td>0.153597</td>\n",
       "      <td>948</td>\n",
       "      <td>3</td>\n",
       "      <td>294.0</td>\n",
       "      <td>0.234694</td>\n",
       "      <td>0.146380</td>\n",
       "      <td>14.387448</td>\n",
       "    </tr>\n",
       "    <tr>\n",
       "      <th>5</th>\n",
       "      <td>(#prior=&gt;3, sex=Male)</td>\n",
       "      <td>0.256643</td>\n",
       "      <td>1584</td>\n",
       "      <td>2</td>\n",
       "      <td>516.0</td>\n",
       "      <td>0.222868</td>\n",
       "      <td>0.134554</td>\n",
       "      <td>16.378453</td>\n",
       "    </tr>\n",
       "    <tr>\n",
       "      <th>6</th>\n",
       "      <td>(#prior=&gt;3)</td>\n",
       "      <td>0.293422</td>\n",
       "      <td>1811</td>\n",
       "      <td>1</td>\n",
       "      <td>602.0</td>\n",
       "      <td>0.219269</td>\n",
       "      <td>0.130955</td>\n",
       "      <td>16.650191</td>\n",
       "    </tr>\n",
       "    <tr>\n",
       "      <th>7</th>\n",
       "      <td>(age=&lt;25, race=Afr-Am)</td>\n",
       "      <td>0.131076</td>\n",
       "      <td>809</td>\n",
       "      <td>2</td>\n",
       "      <td>318.0</td>\n",
       "      <td>0.207547</td>\n",
       "      <td>0.119233</td>\n",
       "      <td>8.290631</td>\n",
       "    </tr>\n",
       "    <tr>\n",
       "      <th>8</th>\n",
       "      <td>(age=&lt;25, sex=Male)</td>\n",
       "      <td>0.178386</td>\n",
       "      <td>1101</td>\n",
       "      <td>2</td>\n",
       "      <td>440.0</td>\n",
       "      <td>0.188636</td>\n",
       "      <td>0.100322</td>\n",
       "      <td>9.038667</td>\n",
       "    </tr>\n",
       "    <tr>\n",
       "      <th>9</th>\n",
       "      <td>(age=&lt;25)</td>\n",
       "      <td>0.218244</td>\n",
       "      <td>1347</td>\n",
       "      <td>1</td>\n",
       "      <td>593.0</td>\n",
       "      <td>0.177066</td>\n",
       "      <td>0.088752</td>\n",
       "      <td>7.005075</td>\n",
       "    </tr>\n",
       "  </tbody>\n",
       "</table>\n",
       "</div>"
      ],
      "text/plain": [
       "                               itemset   support  support_count  length  \\\n",
       "0  (#prior=>3, race=Afr-Am, age=25-45)  0.122813            758       3   \n",
       "1             (#prior=>3, race=Afr-Am)  0.196695           1214       2   \n",
       "2               (#prior=>3, age=25-45)  0.207226           1279       2   \n",
       "3   (#prior=>3, sex=Male, race=Afr-Am)  0.146792            906       3   \n",
       "4     (#prior=>3, sex=Male, age=25-45)  0.153597            948       3   \n",
       "5                (#prior=>3, sex=Male)  0.256643           1584       2   \n",
       "6                          (#prior=>3)  0.293422           1811       1   \n",
       "7               (age=<25, race=Afr-Am)  0.131076            809       2   \n",
       "8                  (age=<25, sex=Male)  0.178386           1101       2   \n",
       "9                            (age=<25)  0.218244           1347       1   \n",
       "\n",
       "   fp_count        fp    fp_div       fp_t  \n",
       "0     228.0  0.276316  0.188002  13.683395  \n",
       "1     383.0  0.261097  0.172783  15.525674  \n",
       "2     397.0  0.251889  0.163575  16.267585  \n",
       "3     277.0  0.241877  0.153563  14.424100  \n",
       "4     294.0  0.234694  0.146380  14.387448  \n",
       "5     516.0  0.222868  0.134554  16.378453  \n",
       "6     602.0  0.219269  0.130955  16.650191  \n",
       "7     318.0  0.207547  0.119233   8.290631  \n",
       "8     440.0  0.188636  0.100322   9.038667  \n",
       "9     593.0  0.177066  0.088752   7.005075  "
      ]
     },
     "execution_count": 14,
     "metadata": {},
     "output_type": "execute_result"
    }
   ],
   "source": [
    "fp_diver = DivergenceExplorer(compas_df)\n",
    "\n",
    "attributes = ['race', '#prior', 'sex', 'age']\n",
    "FP_fm = fp_diver.get_pattern_divergence(min_support=0.1, attributes=attributes, \n",
    "                                        boolean_outcomes=['fp'])\n",
    "FP_fm = FP_fm.sort_values(by=\"fp_div\", ascending=False, ignore_index=True)\n",
    "FP_fm.head(10)"
   ]
  },
  {
   "cell_type": "markdown",
   "metadata": {},
   "source": [
    "The subgroup with highest false-positive rate is (sex=Male, age=25-45, race=Afr-Am, #prior=>3), and they have a rate of 30.8%, which is 22% above the average false-positive rate.  The t-statistic is 7.1, which indicates high significance.  There are 794 instances in this subgroup."
   ]
  },
  {
   "cell_type": "markdown",
   "metadata": {},
   "source": [
    "#### Shapley Value\n",
    "\n",
    "The divergence of each pattern can be attributed to the items (_attribute=value_ pairs) that compose it via the Shapley value. "
   ]
  },
  {
   "cell_type": "code",
   "execution_count": 15,
   "metadata": {},
   "outputs": [
    {
     "name": "stdout",
     "output_type": "stream",
     "text": [
      "frozenset({'#prior=>3', 'race=Afr-Am', 'age=25-45'})\n"
     ]
    },
    {
     "data": {
      "text/plain": [
       "{frozenset({'#prior=>3'}): 0.13720546525188068,\n",
       " frozenset({'race=Afr-Am'}): 0.04033102755330445,\n",
       " frozenset({'age=25-45'}): 0.010465291316135165}"
      ]
     },
     "execution_count": 15,
     "metadata": {},
     "output_type": "execute_result"
    }
   ],
   "source": [
    "processor = DivergencePatternProcessor(FP_fm, 'fp')\n",
    "\n",
    "# We can pick a pattern \n",
    "pattern = processor.patterns['itemset'].iloc[0]\n",
    "print(pattern)\n",
    "\n",
    "# and compute the Shapley value of the items. \n",
    "sv = processor.shapley_value(pattern)\n",
    "sv"
   ]
  },
  {
   "cell_type": "code",
   "execution_count": 16,
   "metadata": {},
   "outputs": [
    {
     "data": {
      "image/png": "[encoded data removed]",
      "text/plain": [
       "<Figure size 200x200 with 1 Axes>"
      ]
     },
     "metadata": {},
     "output_type": "display_data"
    }
   ],
   "source": [
    "# We can also plot the Shapley value.\n",
    "\n",
    "processor.plot_shapley_value(pattern = pattern, figsize=(2,2), title=\"Item contribution\")"
   ]
  },
  {
   "cell_type": "markdown",
   "metadata": {},
   "source": [
    "### Redundancy pruning"
   ]
  },
  {
   "cell_type": "markdown",
   "metadata": {},
   "source": [
    "Sometimes, many similar patterns are returned: if $(A, B, C)$ is divergent, often so is $(A, B, C, D)$, $(A, B, C, E)$, and so on.\n",
    "To obtain a more concise summary, we can prune patterns that are redundant, that is, too similar to other patterns.  \n",
    "This prunes a pattern $\\beta$ if there is a pattern $\\alpha$, subset of $\\beta$, with a divergence difference below a threshold. "
   ]
  },
  {
   "cell_type": "code",
   "execution_count": 17,
   "metadata": {},
   "outputs": [
    {
     "data": {
      "text/html": [
       "<div>\n",
       "<style scoped>\n",
       "    .dataframe tbody tr th:only-of-type {\n",
       "        vertical-align: middle;\n",
       "    }\n",
       "\n",
       "    .dataframe tbody tr th {\n",
       "        vertical-align: top;\n",
       "    }\n",
       "\n",
       "    .dataframe thead th {\n",
       "        text-align: right;\n",
       "    }\n",
       "</style>\n",
       "<table border=\"1\" class=\"dataframe\">\n",
       "  <thead>\n",
       "    <tr style=\"text-align: right;\">\n",
       "      <th></th>\n",
       "      <th>support</th>\n",
       "      <th>itemset</th>\n",
       "      <th>length</th>\n",
       "      <th>support_count</th>\n",
       "      <th>fp</th>\n",
       "      <th>fp_div</th>\n",
       "      <th>fp_t</th>\n",
       "    </tr>\n",
       "  </thead>\n",
       "  <tbody>\n",
       "    <tr>\n",
       "      <th>0</th>\n",
       "      <td>0.122813</td>\n",
       "      <td>(#prior=&gt;3, race=Afr-Am, age=25-45)</td>\n",
       "      <td>3</td>\n",
       "      <td>758</td>\n",
       "      <td>0.276316</td>\n",
       "      <td>0.188002</td>\n",
       "      <td>13.683395</td>\n",
       "    </tr>\n",
       "    <tr>\n",
       "      <th>1</th>\n",
       "      <td>0.196695</td>\n",
       "      <td>(#prior=&gt;3, race=Afr-Am)</td>\n",
       "      <td>2</td>\n",
       "      <td>1214</td>\n",
       "      <td>0.261097</td>\n",
       "      <td>0.172783</td>\n",
       "      <td>15.525674</td>\n",
       "    </tr>\n",
       "    <tr>\n",
       "      <th>2</th>\n",
       "      <td>0.207226</td>\n",
       "      <td>(#prior=&gt;3, age=25-45)</td>\n",
       "      <td>2</td>\n",
       "      <td>1279</td>\n",
       "      <td>0.251889</td>\n",
       "      <td>0.163575</td>\n",
       "      <td>16.267585</td>\n",
       "    </tr>\n",
       "    <tr>\n",
       "      <th>3</th>\n",
       "      <td>0.146792</td>\n",
       "      <td>(#prior=&gt;3, sex=Male, race=Afr-Am)</td>\n",
       "      <td>3</td>\n",
       "      <td>906</td>\n",
       "      <td>0.241877</td>\n",
       "      <td>0.153563</td>\n",
       "      <td>14.424100</td>\n",
       "    </tr>\n",
       "    <tr>\n",
       "      <th>4</th>\n",
       "      <td>0.153597</td>\n",
       "      <td>(#prior=&gt;3, sex=Male, age=25-45)</td>\n",
       "      <td>3</td>\n",
       "      <td>948</td>\n",
       "      <td>0.234694</td>\n",
       "      <td>0.146380</td>\n",
       "      <td>14.387448</td>\n",
       "    </tr>\n",
       "  </tbody>\n",
       "</table>\n",
       "</div>"
      ],
      "text/plain": [
       "    support                              itemset  length  support_count  \\\n",
       "0  0.122813  (#prior=>3, race=Afr-Am, age=25-45)       3            758   \n",
       "1  0.196695             (#prior=>3, race=Afr-Am)       2           1214   \n",
       "2  0.207226               (#prior=>3, age=25-45)       2           1279   \n",
       "3  0.146792   (#prior=>3, sex=Male, race=Afr-Am)       3            906   \n",
       "4  0.153597     (#prior=>3, sex=Male, age=25-45)       3            948   \n",
       "\n",
       "         fp    fp_div       fp_t  \n",
       "0  0.276316  0.188002  13.683395  \n",
       "1  0.261097  0.172783  15.525674  \n",
       "2  0.251889  0.163575  16.267585  \n",
       "3  0.241877  0.153563  14.424100  \n",
       "4  0.234694  0.146380  14.387448  "
      ]
     },
     "execution_count": 17,
     "metadata": {},
     "output_type": "execute_result"
    }
   ],
   "source": [
    "df_pruned = processor.redundancy_pruning(th_redundancy=0.01)\n",
    "df_pruned.sort_values(\"fp_div\", ascending=False).head(5)"
   ]
  },
  {
   "cell_type": "markdown",
   "metadata": {},
   "source": [
    "### Global Shapley value\n",
    "\n",
    "We can compute the global shapley value of the pattern divergence across all the patterns.\n",
    "This is helpful in understanding which attributes contribute most to the divergence, across all patterns.\n"
   ]
  },
  {
   "cell_type": "code",
   "execution_count": 18,
   "metadata": {},
   "outputs": [
    {
     "data": {
      "text/plain": [
       "{frozenset({'#prior=>3'}): np.float64(0.0178195842307307),\n",
       " frozenset({'age=<25'}): np.float64(0.009659973804123173),\n",
       " frozenset({'race=Afr-Am'}): np.float64(0.011190872219056293),\n",
       " frozenset({'sex=Male'}): np.float64(0.0012417066931630896),\n",
       " frozenset({'age=25-45'}): np.float64(6.0814974633318066e-05),\n",
       " frozenset({'#prior=[1,3]'}): np.float64(-0.0027715521320987304),\n",
       " frozenset({'sex=Female'}): np.float64(-0.0027027717590977353),\n",
       " frozenset({'#prior=0'}): np.float64(-0.005648272853174315),\n",
       " frozenset({'race=Cauc'}): np.float64(-0.007908050080949476),\n",
       " frozenset({'age=>45'}): np.float64(-0.006468567991314258)}"
      ]
     },
     "execution_count": 18,
     "metadata": {},
     "output_type": "execute_result"
    }
   ],
   "source": [
    "gsv = processor.global_shapley_value()\n",
    "gsv"
   ]
  },
  {
   "cell_type": "code",
   "execution_count": 19,
   "metadata": {},
   "outputs": [
    {
     "data": {
      "image/png": "[encoded data removed]",
      "text/plain": [
       "<Figure size 300x400 with 1 Axes>"
      ]
     },
     "metadata": {},
     "output_type": "display_data"
    }
   ],
   "source": [
    "processor.plot_shapley_value(shapley_values=gsv, figsize=(3,4), title='Global Shapley Value')"
   ]
  },
  {
   "cell_type": "markdown",
   "metadata": {},
   "source": [
    "We see how the main factor increasing false-positives, across all patterns (in combination with all other attributes) is a high number of priors, while the main factor reducing the false-positive rate is Caucasian race. "
   ]
  }
 ],
 "metadata": {
  "hide_input": false,
  "kernelspec": {
   "display_name": "divexplorer",
   "language": "python",
   "name": "python3"
  },
  "language_info": {
   "codemirror_mode": {
    "name": "ipython",
    "version": 3
   },
   "file_extension": ".py",
   "mimetype": "text/x-python",
   "name": "python",
   "nbconvert_exporter": "python",
   "pygments_lexer": "ipython3",
   "version": "3.12.4"
  },
  "toc": {
   "base_numbering": 1,
   "nav_menu": {},
   "number_sections": true,
   "sideBar": true,
   "skip_h1_title": false,
   "title_cell": "Table of Contents",
   "title_sidebar": "Contents",
   "toc_cell": false,
   "toc_position": {
    "height": "522px",
    "left": "26px",
    "top": "109.301px",
    "width": "182px"
   },
   "toc_section_display": true,
   "toc_window_display": true
  },
  "varInspector": {
   "cols": {
    "lenName": 16,
    "lenType": 16,
    "lenVar": 40
   },
   "kernels_config": {
    "python": {
     "delete_cmd_postfix": "",
     "delete_cmd_prefix": "del ",
     "library": "var_list.py",
     "varRefreshCmd": "print(var_dic_list())"
    },
    "r": {
     "delete_cmd_postfix": ") ",
     "delete_cmd_prefix": "rm(",
     "library": "var_list.r",
     "varRefreshCmd": "cat(var_dic_list()) "
    }
   },
   "types_to_exclude": [
    "module",
    "function",
    "builtin_function_or_method",
    "instance",
    "_Feature"
   ],
   "window_display": false
  }
 },
 "nbformat": 4,
 "nbformat_minor": 2
}
