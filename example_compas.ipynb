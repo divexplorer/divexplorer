{
 "cells": [
  {
   "cell_type": "markdown",
   "metadata": {},
   "source": [
    "# DivExplorer analysis - Example with COMPAS dataset "
   ]
  },
  {
   "cell_type": "code",
   "execution_count": 1,
   "metadata": {},
   "outputs": [],
   "source": [
    "%load_ext autoreload\n",
    "%autoreload 2 "
   ]
  },
  {
   "cell_type": "markdown",
   "metadata": {
    "ExecuteTime": {
     "end_time": "2021-06-11T14:57:33.227374Z",
     "start_time": "2021-06-11T14:57:33.204664Z"
    }
   },
   "source": [
    "# Import dataset"
   ]
  },
  {
   "cell_type": "markdown",
   "metadata": {
    "ExecuteTime": {
     "end_time": "2021-06-11T17:27:41.995139Z",
     "start_time": "2021-06-11T17:27:41.990917Z"
    }
   },
   "source": [
    "In this running example we analyze the [COMPAS](https://www.propublica.org/article/how-we-analyzed-the-compas-recidivism-algorithm) dataset.\n",
    "\n",
    "We import an already pre-processed and discretized version. You can refer to this [notebook](www.google.com) for its pre-processing.\n",
    "\n",
    "The COMPAS dataset contains demographic information and the criminal history of defendants.\n",
    "For each criminal defendant, the following attributes are available:\n",
    "- *age_cat*: age category of the defendant. \n",
    "- *c_charge_degree*: severity of the charge. 'M'='Misdemeanor','F'='Felony' \n",
    "- *race*: 'Afr-Am', 'Asian', 'Cauc', 'Hispanic', 'Native American', 'Other'\n",
    "- *sex*: 'Female', 'Male'\n",
    "- *length_of_stay*: the days spent in jail, derived from the records of the date in which the person entered lastly the jail and the date in which the person was released.\n",
    "- *priors_count*: the number of prior crimes committed.\n",
    "\n",
    "\n",
    "For each defendant, the dataset also records:\n",
    "- the *class*, whether the defendant recidivated (was arrested again) in the next two years. It is 1 if the defendant recidivated, 0 otherwise.\n",
    "- the *predicted* recidivism, derived from the COMPAS score of recidivism risk assesses the defendant’s likelihood of committing another offense in a period of two years. It is 1 if the risk is high."
   ]
  },
  {
   "cell_type": "code",
   "execution_count": 2,
   "metadata": {},
   "outputs": [
    {
     "data": {
      "text/html": [
       "<div>\n",
       "<style scoped>\n",
       "    .dataframe tbody tr th:only-of-type {\n",
       "        vertical-align: middle;\n",
       "    }\n",
       "\n",
       "    .dataframe tbody tr th {\n",
       "        vertical-align: top;\n",
       "    }\n",
       "\n",
       "    .dataframe thead th {\n",
       "        text-align: right;\n",
       "    }\n",
       "</style>\n",
       "<table border=\"1\" class=\"dataframe\">\n",
       "  <thead>\n",
       "    <tr style=\"text-align: right;\">\n",
       "      <th></th>\n",
       "      <th>age</th>\n",
       "      <th>charge</th>\n",
       "      <th>race</th>\n",
       "      <th>sex</th>\n",
       "      <th>#prior</th>\n",
       "      <th>stay</th>\n",
       "      <th>class</th>\n",
       "      <th>predicted</th>\n",
       "    </tr>\n",
       "  </thead>\n",
       "  <tbody>\n",
       "    <tr>\n",
       "      <th>0</th>\n",
       "      <td>&gt;45</td>\n",
       "      <td>F</td>\n",
       "      <td>Other</td>\n",
       "      <td>Male</td>\n",
       "      <td>0</td>\n",
       "      <td>&lt;week</td>\n",
       "      <td>0</td>\n",
       "      <td>0</td>\n",
       "    </tr>\n",
       "    <tr>\n",
       "      <th>1</th>\n",
       "      <td>25-45</td>\n",
       "      <td>F</td>\n",
       "      <td>Afr-Am</td>\n",
       "      <td>Male</td>\n",
       "      <td>0</td>\n",
       "      <td>1w-3M</td>\n",
       "      <td>1</td>\n",
       "      <td>0</td>\n",
       "    </tr>\n",
       "    <tr>\n",
       "      <th>2</th>\n",
       "      <td>&lt;25</td>\n",
       "      <td>F</td>\n",
       "      <td>Afr-Am</td>\n",
       "      <td>Male</td>\n",
       "      <td>&gt;3</td>\n",
       "      <td>&lt;week</td>\n",
       "      <td>1</td>\n",
       "      <td>0</td>\n",
       "    </tr>\n",
       "    <tr>\n",
       "      <th>3</th>\n",
       "      <td>25-45</td>\n",
       "      <td>M</td>\n",
       "      <td>Other</td>\n",
       "      <td>Male</td>\n",
       "      <td>0</td>\n",
       "      <td>&lt;week</td>\n",
       "      <td>0</td>\n",
       "      <td>0</td>\n",
       "    </tr>\n",
       "    <tr>\n",
       "      <th>4</th>\n",
       "      <td>25-45</td>\n",
       "      <td>F</td>\n",
       "      <td>Cauc</td>\n",
       "      <td>Male</td>\n",
       "      <td>&gt;3</td>\n",
       "      <td>&lt;week</td>\n",
       "      <td>1</td>\n",
       "      <td>0</td>\n",
       "    </tr>\n",
       "  </tbody>\n",
       "</table>\n",
       "</div>"
      ],
      "text/plain": [
       "     age charge    race   sex #prior   stay  class  predicted\n",
       "0    >45      F   Other  Male      0  <week      0          0\n",
       "1  25-45      F  Afr-Am  Male      0  1w-3M      1          0\n",
       "2    <25      F  Afr-Am  Male     >3  <week      1          0\n",
       "3  25-45      M   Other  Male      0  <week      0          0\n",
       "4  25-45      F    Cauc  Male     >3  <week      1          0"
      ]
     },
     "execution_count": 2,
     "metadata": {},
     "output_type": "execute_result"
    }
   ],
   "source": [
    "import os\n",
    "inputDir=os.path.join(\".\", \"notebooks\", \"datasets\")\n",
    "\n",
    "import pandas as pd\n",
    "df = pd.read_csv(os.path.join(inputDir, \"compas_discretized.csv\"))\n",
    "df.head()"
   ]
  },
  {
   "cell_type": "code",
   "execution_count": 3,
   "metadata": {},
   "outputs": [],
   "source": [
    "# We take the true labels and the predicted labels\n",
    "y_trues = df[\"class\"].values\n",
    "y_preds = df[\"predicted\"].values"
   ]
  },
  {
   "cell_type": "code",
   "execution_count": 4,
   "metadata": {},
   "outputs": [],
   "source": [
    "from divexplorer.outcomes import get_false_positive_rate_outcome\n",
    "\n",
    "# We get the false positive rate outcome\n",
    "# The value is 1 if the instance is a false positive, 0 is if it as a true negative, np.nan otherwise\n",
    "# Please, see https://divexplorer.github.io/static/KDD_2021_DivExplorer.pdf for more details\n",
    "\n",
    "df['fpr_outcome'] =  get_false_positive_rate_outcome(y_trues, y_preds, negative_value=0)"
   ]
  },
  {
   "cell_type": "code",
   "execution_count": 5,
   "metadata": {},
   "outputs": [],
   "source": [
    "# We drop the columns that we do not need anymore\n",
    "df = df.drop(columns=['class', 'predicted'])  "
   ]
  },
  {
   "cell_type": "markdown",
   "metadata": {},
   "source": [
    "# Compute pattern divergence"
   ]
  },
  {
   "cell_type": "markdown",
   "metadata": {},
   "source": [
    "With DivExplorer, we can compute the the performance metrics and the divergence scores of *all* itemsets whose frequency in the dataset is above a minimum frequency threshold (min_sup)."
   ]
  },
  {
   "cell_type": "code",
   "execution_count": 6,
   "metadata": {},
   "outputs": [
    {
     "data": {
      "text/html": [
       "<div>\n",
       "<style scoped>\n",
       "    .dataframe tbody tr th:only-of-type {\n",
       "        vertical-align: middle;\n",
       "    }\n",
       "\n",
       "    .dataframe tbody tr th {\n",
       "        vertical-align: top;\n",
       "    }\n",
       "\n",
       "    .dataframe thead th {\n",
       "        text-align: right;\n",
       "    }\n",
       "</style>\n",
       "<table border=\"1\" class=\"dataframe\">\n",
       "  <thead>\n",
       "    <tr style=\"text-align: right;\">\n",
       "      <th></th>\n",
       "      <th>support</th>\n",
       "      <th>itemset</th>\n",
       "      <th>fpr_outcome</th>\n",
       "      <th>fpr_outcome_div</th>\n",
       "      <th>fpr_outcome_t</th>\n",
       "      <th>length</th>\n",
       "      <th>support_count</th>\n",
       "    </tr>\n",
       "  </thead>\n",
       "  <tbody>\n",
       "    <tr>\n",
       "      <th>0</th>\n",
       "      <td>1.000000</td>\n",
       "      <td>()</td>\n",
       "      <td>0.088314</td>\n",
       "      <td>0.000000</td>\n",
       "      <td>0.000000</td>\n",
       "      <td>0</td>\n",
       "      <td>6172.0</td>\n",
       "    </tr>\n",
       "    <tr>\n",
       "      <th>1</th>\n",
       "      <td>0.809624</td>\n",
       "      <td>(sex=Male)</td>\n",
       "      <td>0.093810</td>\n",
       "      <td>0.005496</td>\n",
       "      <td>0.738697</td>\n",
       "      <td>1</td>\n",
       "      <td>4997.0</td>\n",
       "    </tr>\n",
       "    <tr>\n",
       "      <th>2</th>\n",
       "      <td>0.772683</td>\n",
       "      <td>(stay=&lt;week)</td>\n",
       "      <td>0.072043</td>\n",
       "      <td>-0.016271</td>\n",
       "      <td>2.339352</td>\n",
       "      <td>1</td>\n",
       "      <td>4769.0</td>\n",
       "    </tr>\n",
       "    <tr>\n",
       "      <th>3</th>\n",
       "      <td>0.643227</td>\n",
       "      <td>(charge=F)</td>\n",
       "      <td>0.107754</td>\n",
       "      <td>0.019440</td>\n",
       "      <td>2.301183</td>\n",
       "      <td>1</td>\n",
       "      <td>3970.0</td>\n",
       "    </tr>\n",
       "    <tr>\n",
       "      <th>4</th>\n",
       "      <td>0.614226</td>\n",
       "      <td>(stay=&lt;week, sex=Male)</td>\n",
       "      <td>0.076379</td>\n",
       "      <td>-0.011935</td>\n",
       "      <td>1.555571</td>\n",
       "      <td>2</td>\n",
       "      <td>3791.0</td>\n",
       "    </tr>\n",
       "    <tr>\n",
       "      <th>5</th>\n",
       "      <td>0.572262</td>\n",
       "      <td>(age=25-45)</td>\n",
       "      <td>0.088842</td>\n",
       "      <td>0.000528</td>\n",
       "      <td>0.087728</td>\n",
       "      <td>1</td>\n",
       "      <td>3532.0</td>\n",
       "    </tr>\n",
       "    <tr>\n",
       "      <th>6</th>\n",
       "      <td>0.532404</td>\n",
       "      <td>(charge=F, sex=Male)</td>\n",
       "      <td>0.111041</td>\n",
       "      <td>0.022727</td>\n",
       "      <td>2.471729</td>\n",
       "      <td>2</td>\n",
       "      <td>3286.0</td>\n",
       "    </tr>\n",
       "    <tr>\n",
       "      <th>7</th>\n",
       "      <td>0.514420</td>\n",
       "      <td>(race=Afr-Am)</td>\n",
       "      <td>0.139366</td>\n",
       "      <td>0.051052</td>\n",
       "      <td>5.046409</td>\n",
       "      <td>1</td>\n",
       "      <td>3175.0</td>\n",
       "    </tr>\n",
       "    <tr>\n",
       "      <th>8</th>\n",
       "      <td>0.471484</td>\n",
       "      <td>(stay=&lt;week, charge=F)</td>\n",
       "      <td>0.088179</td>\n",
       "      <td>-0.000135</td>\n",
       "      <td>0.016780</td>\n",
       "      <td>2</td>\n",
       "      <td>2910.0</td>\n",
       "    </tr>\n",
       "    <tr>\n",
       "      <th>9</th>\n",
       "      <td>0.460629</td>\n",
       "      <td>(age=25-45, sex=Male)</td>\n",
       "      <td>0.096377</td>\n",
       "      <td>0.008063</td>\n",
       "      <td>0.914899</td>\n",
       "      <td>2</td>\n",
       "      <td>2843.0</td>\n",
       "    </tr>\n",
       "  </tbody>\n",
       "</table>\n",
       "</div>"
      ],
      "text/plain": [
       "    support                 itemset  fpr_outcome  fpr_outcome_div   \n",
       "0  1.000000                      ()     0.088314         0.000000  \\\n",
       "1  0.809624              (sex=Male)     0.093810         0.005496   \n",
       "2  0.772683            (stay=<week)     0.072043        -0.016271   \n",
       "3  0.643227              (charge=F)     0.107754         0.019440   \n",
       "4  0.614226  (stay=<week, sex=Male)     0.076379        -0.011935   \n",
       "5  0.572262             (age=25-45)     0.088842         0.000528   \n",
       "6  0.532404    (charge=F, sex=Male)     0.111041         0.022727   \n",
       "7  0.514420           (race=Afr-Am)     0.139366         0.051052   \n",
       "8  0.471484  (stay=<week, charge=F)     0.088179        -0.000135   \n",
       "9  0.460629   (age=25-45, sex=Male)     0.096377         0.008063   \n",
       "\n",
       "   fpr_outcome_t  length  support_count  \n",
       "0       0.000000       0         6172.0  \n",
       "1       0.738697       1         4997.0  \n",
       "2       2.339352       1         4769.0  \n",
       "3       2.301183       1         3970.0  \n",
       "4       1.555571       2         3791.0  \n",
       "5       0.087728       1         3532.0  \n",
       "6       2.471729       2         3286.0  \n",
       "7       5.046409       1         3175.0  \n",
       "8       0.016780       2         2910.0  \n",
       "9       0.914899       2         2843.0  "
      ]
     },
     "execution_count": 6,
     "metadata": {},
     "output_type": "execute_result"
    }
   ],
   "source": [
    "from divexplorer.divexplorer import DivergenceExplorer\n",
    "\n",
    "min_sup = 0.1\n",
    "fp_diver = DivergenceExplorer(df)\n",
    "\n",
    "# We get the divergence patterns with a minimum support of 10%\n",
    "# We set the outcomes to the name of the column that contains the outcome\n",
    "# We can have multiple outcomes, but in this case we only have one\n",
    "\n",
    "FP_fm = fp_diver.get_pattern_divergence(min_support=min_sup, boolean_outcomes = ['fpr_outcome'])\n",
    "FP_fm.sort_values(by=\"support\", ascending=False).head(10)"
   ]
  },
  {
   "cell_type": "markdown",
   "metadata": {},
   "source": [
    "The output is a pandas DataFrame. Each row represent a frequent pattern with the following information:\n",
    "\n",
    "- support is the frequency of the pattern in the dataset\n",
    "- itemset is the pattern - frozenset of items (str)\n",
    "- fpr_outcome is the false positive rate of the pattern\n",
    "- fpr_outcome_div is the divergence of the fpr = fpr(pattern) - fpr(all dataset)\n",
    "- fpr_outcome_t is the the value of the fpr divergence\n",
    "- lenght is the number of items in the pattern\n",
    "- support_count is the number of instances that satisfy the pattern"
   ]
  },
  {
   "cell_type": "code",
   "execution_count": 8,
   "metadata": {},
   "outputs": [
    {
     "data": {
      "text/html": [
       "<div>\n",
       "<style scoped>\n",
       "    .dataframe tbody tr th:only-of-type {\n",
       "        vertical-align: middle;\n",
       "    }\n",
       "\n",
       "    .dataframe tbody tr th {\n",
       "        vertical-align: top;\n",
       "    }\n",
       "\n",
       "    .dataframe thead th {\n",
       "        text-align: right;\n",
       "    }\n",
       "</style>\n",
       "<table border=\"1\" class=\"dataframe\">\n",
       "  <thead>\n",
       "    <tr style=\"text-align: right;\">\n",
       "      <th></th>\n",
       "      <th>support</th>\n",
       "      <th>itemset</th>\n",
       "      <th>fpr_outcome</th>\n",
       "      <th>fpr_outcome_div</th>\n",
       "      <th>fpr_outcome_t</th>\n",
       "      <th>length</th>\n",
       "      <th>support_count</th>\n",
       "    </tr>\n",
       "  </thead>\n",
       "  <tbody>\n",
       "    <tr>\n",
       "      <th>112</th>\n",
       "      <td>0.128645</td>\n",
       "      <td>(#prior=&gt;3, age=25-45, race=Afr-Am, sex=Male)</td>\n",
       "      <td>0.308036</td>\n",
       "      <td>0.219722</td>\n",
       "      <td>7.116857</td>\n",
       "      <td>4</td>\n",
       "      <td>794.0</td>\n",
       "    </tr>\n",
       "    <tr>\n",
       "      <th>92</th>\n",
       "      <td>0.145010</td>\n",
       "      <td>(#prior=&gt;3, age=25-45, race=Afr-Am)</td>\n",
       "      <td>0.299242</td>\n",
       "      <td>0.210928</td>\n",
       "      <td>7.448260</td>\n",
       "      <td>3</td>\n",
       "      <td>895.0</td>\n",
       "    </tr>\n",
       "    <tr>\n",
       "      <th>135</th>\n",
       "      <td>0.109527</td>\n",
       "      <td>(#prior=&gt;3, age=25-45, charge=F, race=Afr-Am)</td>\n",
       "      <td>0.290155</td>\n",
       "      <td>0.201841</td>\n",
       "      <td>6.201585</td>\n",
       "      <td>4</td>\n",
       "      <td>676.0</td>\n",
       "    </tr>\n",
       "    <tr>\n",
       "      <th>109</th>\n",
       "      <td>0.130752</td>\n",
       "      <td>(#prior=&gt;3, charge=F, race=Afr-Am, sex=Male)</td>\n",
       "      <td>0.268722</td>\n",
       "      <td>0.180408</td>\n",
       "      <td>6.132988</td>\n",
       "      <td>4</td>\n",
       "      <td>807.0</td>\n",
       "    </tr>\n",
       "    <tr>\n",
       "      <th>67</th>\n",
       "      <td>0.175308</td>\n",
       "      <td>(#prior=&gt;3, race=Afr-Am, sex=Male)</td>\n",
       "      <td>0.266871</td>\n",
       "      <td>0.178557</td>\n",
       "      <td>7.214382</td>\n",
       "      <td>3</td>\n",
       "      <td>1082.0</td>\n",
       "    </tr>\n",
       "  </tbody>\n",
       "</table>\n",
       "</div>"
      ],
      "text/plain": [
       "      support                                        itemset  fpr_outcome   \n",
       "112  0.128645  (#prior=>3, age=25-45, race=Afr-Am, sex=Male)     0.308036  \\\n",
       "92   0.145010            (#prior=>3, age=25-45, race=Afr-Am)     0.299242   \n",
       "135  0.109527  (#prior=>3, age=25-45, charge=F, race=Afr-Am)     0.290155   \n",
       "109  0.130752   (#prior=>3, charge=F, race=Afr-Am, sex=Male)     0.268722   \n",
       "67   0.175308             (#prior=>3, race=Afr-Am, sex=Male)     0.266871   \n",
       "\n",
       "     fpr_outcome_div  fpr_outcome_t  length  support_count  \n",
       "112         0.219722       7.116857       4          794.0  \n",
       "92          0.210928       7.448260       3          895.0  \n",
       "135         0.201841       6.201585       4          676.0  \n",
       "109         0.180408       6.132988       4          807.0  \n",
       "67          0.178557       7.214382       3         1082.0  "
      ]
     },
     "execution_count": 8,
     "metadata": {},
     "output_type": "execute_result"
    }
   ],
   "source": [
    "# We sort the patterns by the false positive rat divergence\n",
    "FP_fm.sort_values(by=\"fpr_outcome_div\", ascending=False).head(5)"
   ]
  },
  {
   "cell_type": "markdown",
   "metadata": {},
   "source": [
    "## DivergencePatternProcessor - Analysis of the divergence patterns"
   ]
  },
  {
   "cell_type": "code",
   "execution_count": 10,
   "metadata": {},
   "outputs": [],
   "source": [
    "from divexplorer.pattern_processor import DivergencePatternProcessor\n",
    "\n",
    "# We create a pattern processor \n",
    "# We provide the dataframe and the name of the column that contains the outcome we want to analyze (fpr_outcome in this case)\n",
    "fp_diver = DivergencePatternProcessor(FP_fm, 'fpr_outcome')"
   ]
  },
  {
   "cell_type": "markdown",
   "metadata": {},
   "source": [
    "### Shapley value of a pattern divergence"
   ]
  },
  {
   "cell_type": "code",
   "execution_count": 11,
   "metadata": {},
   "outputs": [
    {
     "name": "stdout",
     "output_type": "stream",
     "text": [
      "frozenset({'#prior=>3', 'age=25-45', 'race=Afr-Am', 'sex=Male'})\n"
     ]
    },
    {
     "data": {
      "text/plain": [
       "{frozenset({'#prior=>3'}): 0.14226087371897317,\n",
       " frozenset({'age=25-45'}): 0.019084863062973356,\n",
       " frozenset({'race=Afr-Am'}): 0.05115538154975479,\n",
       " frozenset({'sex=Male'}): 0.007220590601649036}"
      ]
     },
     "execution_count": 11,
     "metadata": {},
     "output_type": "execute_result"
    }
   ],
   "source": [
    "# Given a pattern, we can get the shapley value of the pattern\n",
    "pattern = fp_diver.patterns['itemset'].iloc[112]\n",
    "print(pattern)\n",
    "\n",
    "sv = fp_diver.shapley_value(pattern)\n",
    "sv"
   ]
  },
  {
   "cell_type": "code",
   "execution_count": 12,
   "metadata": {},
   "outputs": [
    {
     "data": {
      "image/png": "[encoded data removed]",
      "text/plain": [
       "<Figure size 200x200 with 1 Axes>"
      ]
     },
     "metadata": {},
     "output_type": "display_data"
    }
   ],
   "source": [
    "# We can also plot it\n",
    "\n",
    "fp_diver.plot_shapley_value(pattern = pattern, figsize=(2,2), title=\"Shapley value of the pattern\")"
   ]
  },
  {
   "cell_type": "markdown",
   "metadata": {},
   "source": [
    "### Redundancy pruning"
   ]
  },
  {
   "cell_type": "code",
   "execution_count": 13,
   "metadata": {},
   "outputs": [
    {
     "data": {
      "text/html": [
       "<div>\n",
       "<style scoped>\n",
       "    .dataframe tbody tr th:only-of-type {\n",
       "        vertical-align: middle;\n",
       "    }\n",
       "\n",
       "    .dataframe tbody tr th {\n",
       "        vertical-align: top;\n",
       "    }\n",
       "\n",
       "    .dataframe thead th {\n",
       "        text-align: right;\n",
       "    }\n",
       "</style>\n",
       "<table border=\"1\" class=\"dataframe\">\n",
       "  <thead>\n",
       "    <tr style=\"text-align: right;\">\n",
       "      <th></th>\n",
       "      <th>support</th>\n",
       "      <th>itemset</th>\n",
       "      <th>length</th>\n",
       "      <th>support_count</th>\n",
       "      <th>fpr_outcome</th>\n",
       "      <th>fpr_outcome_div</th>\n",
       "      <th>fpr_outcome_t</th>\n",
       "    </tr>\n",
       "  </thead>\n",
       "  <tbody>\n",
       "    <tr>\n",
       "      <th>0</th>\n",
       "      <td>1.000000</td>\n",
       "      <td>()</td>\n",
       "      <td>0</td>\n",
       "      <td>6172.0</td>\n",
       "      <td>0.088314</td>\n",
       "      <td>0.000000</td>\n",
       "      <td>0.000000</td>\n",
       "    </tr>\n",
       "    <tr>\n",
       "      <th>7</th>\n",
       "      <td>0.514420</td>\n",
       "      <td>(race=Afr-Am)</td>\n",
       "      <td>1</td>\n",
       "      <td>3175.0</td>\n",
       "      <td>0.139366</td>\n",
       "      <td>0.051052</td>\n",
       "      <td>5.046409</td>\n",
       "    </tr>\n",
       "    <tr>\n",
       "      <th>28</th>\n",
       "      <td>0.293422</td>\n",
       "      <td>(#prior=&gt;3)</td>\n",
       "      <td>1</td>\n",
       "      <td>1811.0</td>\n",
       "      <td>0.219269</td>\n",
       "      <td>0.130955</td>\n",
       "      <td>7.503321</td>\n",
       "    </tr>\n",
       "    <tr>\n",
       "      <th>44</th>\n",
       "      <td>0.218244</td>\n",
       "      <td>(age=&lt;25)</td>\n",
       "      <td>1</td>\n",
       "      <td>1347.0</td>\n",
       "      <td>0.177066</td>\n",
       "      <td>0.088752</td>\n",
       "      <td>5.456070</td>\n",
       "    </tr>\n",
       "    <tr>\n",
       "      <th>47</th>\n",
       "      <td>0.209494</td>\n",
       "      <td>(age=&gt;45)</td>\n",
       "      <td>1</td>\n",
       "      <td>1293.0</td>\n",
       "      <td>0.027304</td>\n",
       "      <td>-0.061010</td>\n",
       "      <td>8.097262</td>\n",
       "    </tr>\n",
       "    <tr>\n",
       "      <th>65</th>\n",
       "      <td>0.177090</td>\n",
       "      <td>(stay=1w-3M)</td>\n",
       "      <td>1</td>\n",
       "      <td>1093.0</td>\n",
       "      <td>0.151786</td>\n",
       "      <td>0.063472</td>\n",
       "      <td>3.668118</td>\n",
       "    </tr>\n",
       "  </tbody>\n",
       "</table>\n",
       "</div>"
      ],
      "text/plain": [
       "     support        itemset  length  support_count  fpr_outcome   \n",
       "0   1.000000             ()       0         6172.0     0.088314  \\\n",
       "7   0.514420  (race=Afr-Am)       1         3175.0     0.139366   \n",
       "28  0.293422    (#prior=>3)       1         1811.0     0.219269   \n",
       "44  0.218244      (age=<25)       1         1347.0     0.177066   \n",
       "47  0.209494      (age=>45)       1         1293.0     0.027304   \n",
       "65  0.177090   (stay=1w-3M)       1         1093.0     0.151786   \n",
       "\n",
       "    fpr_outcome_div  fpr_outcome_t  \n",
       "0          0.000000       0.000000  \n",
       "7          0.051052       5.046409  \n",
       "28         0.130955       7.503321  \n",
       "44         0.088752       5.456070  \n",
       "47        -0.061010       8.097262  \n",
       "65         0.063472       3.668118  "
      ]
     },
     "execution_count": 13,
     "metadata": {},
     "output_type": "execute_result"
    }
   ],
   "source": [
    "# We can prune the patterns that are redundant\n",
    "# We keep only the patterns that are not redundant with a threshold of 0.05\n",
    "\n",
    "fp_diver.redundancy_pruning(th_redundancy=0.05)"
   ]
  },
  {
   "cell_type": "markdown",
   "metadata": {},
   "source": [
    "### Global Shapley value"
   ]
  },
  {
   "cell_type": "code",
   "execution_count": 15,
   "metadata": {},
   "outputs": [],
   "source": [
    "# We can compute the global shapley value of the pattern divergence across all the patterns \n",
    "gsv = fp_diver.global_shapley_value()"
   ]
  },
  {
   "cell_type": "markdown",
   "metadata": {},
   "source": [
    "For each (frequent) item, we compute its global divergence. \n",
    "\n",
    "The Global Shapley value is a generalization of the Shapley value to the entire set of all items. It captures the role of an item in giving rise to divergence jointly with other attributes."
   ]
  },
  {
   "cell_type": "code",
   "execution_count": 16,
   "metadata": {},
   "outputs": [
    {
     "data": {
      "image/png": "[encoded data removed]",
      "text/plain": [
       "<Figure size 300x400 with 1 Axes>"
      ]
     },
     "metadata": {},
     "output_type": "display_data"
    }
   ],
   "source": [
    "fp_diver.plot_shapley_value(shapley_values=gsv, figsize=(3,4), title='Global Shapley Value')"
   ]
  },
  {
   "cell_type": "markdown",
   "metadata": {},
   "source": [
    "## Quantitative "
   ]
  },
  {
   "cell_type": "code",
   "execution_count": null,
   "metadata": {},
   "outputs": [],
   "source": [
    "import os\n",
    "import numpy as np\n",
    "\n",
    "inputDir=os.path.join(\".\", \"notebooks\", \"datasets\")\n",
    "\n",
    "import pandas as pd\n",
    "df= pd.read_csv(os.path.join(inputDir, \"compas_discretized.csv\"))\n",
    "\n",
    "# This is just for test purposes\n",
    "df['score'] = [np.random.uniform() for i in range(len(df))]\n",
    "df.drop(columns=['class', 'predicted'], inplace=True)"
   ]
  },
  {
   "cell_type": "code",
   "execution_count": null,
   "metadata": {},
   "outputs": [],
   "source": [
    "from divexplorer.divexplorer import DivergenceExplorer\n",
    "\n",
    "min_sup = 0.1\n",
    "fp_diver = DivergenceExplorer(\n",
    "    df)\n",
    "FP_fm = fp_diver.get_pattern_divergence(min_support=min_sup, quantitative_outcomes = ['score'], show_coincise = True)\n",
    "FP_fm.sort_values(by=\"support\", ascending=False).head(10)"
   ]
  },
  {
   "cell_type": "code",
   "execution_count": null,
   "metadata": {},
   "outputs": [],
   "source": [
    "from divexplorer.pattern_processor import DivergencePatternProcessor\n",
    "\n",
    "fp_diver = DivergencePatternProcessor(FP_fm, 'score')\n",
    "\n",
    "pattern = fp_diver.patterns['itemset'].iloc[100]\n",
    "print(pattern)\n",
    "\n",
    "sv = fp_diver.shapley_value(pattern)\n",
    "print(sv)\n",
    "fp_diver.plot_shapley_value(shapley_values=sv, figsize=(2,2))"
   ]
  },
  {
   "cell_type": "markdown",
   "metadata": {},
   "source": [
    "# Quantitative outcomes - multiple"
   ]
  },
  {
   "cell_type": "code",
   "execution_count": null,
   "metadata": {},
   "outputs": [],
   "source": [
    "import os\n",
    "inputDir=os.path.join(\".\", \"notebooks\", \"datasets\")\n",
    "\n",
    "import pandas as pd\n",
    "df = pd.read_csv(os.path.join(inputDir, \"compas_discretized.csv\"))\n",
    "df.head()"
   ]
  },
  {
   "cell_type": "code",
   "execution_count": null,
   "metadata": {},
   "outputs": [],
   "source": [
    "y_trues = df[\"class\"].values\n",
    "y_preds = df[\"predicted\"].values\n",
    "\n",
    "from divexplorer.outcomes import get_false_negative_rate_outcome, get_accuracy_outcome \n",
    "\n",
    "\n",
    "df['fnr_outcome'] = get_false_negative_rate_outcome(y_trues, y_preds, negative_value=0, positive_value=1)\n",
    "df['acc_outcome'] = get_accuracy_outcome(y_trues, y_preds, negative_value=0, positive_value=1)"
   ]
  },
  {
   "cell_type": "code",
   "execution_count": null,
   "metadata": {},
   "outputs": [],
   "source": [
    "df = df.drop(columns=['class', 'predicted'])  "
   ]
  },
  {
   "cell_type": "code",
   "execution_count": null,
   "metadata": {},
   "outputs": [],
   "source": [
    "from divexplorer.divexplorer import DivergenceExplorer\n",
    "\n",
    "min_sup = 0.1\n",
    "fp_diver = DivergenceExplorer(\n",
    "    df)\n",
    "FP_fm = fp_diver.get_pattern_divergence(min_support=min_sup, boolean_outcomes = ['fnr_outcome', 'acc_outcome'], show_coincise = True)\n",
    "FP_fm.sort_values(by=\"support\", ascending=False).head(10)"
   ]
  },
  {
   "cell_type": "code",
   "execution_count": null,
   "metadata": {},
   "outputs": [],
   "source": [
    "from divexplorer.pattern_processor import DivergencePatternProcessor\n",
    "\n",
    "fp_diver = DivergencePatternProcessor(FP_fm, 'acc_outcome')\n",
    "\n",
    "pattern = fp_diver.patterns['itemset'].iloc[30]\n",
    "print(pattern)\n",
    "\n",
    "fp_diver.plot_shapley_value(pattern = pattern, figsize=(2,2))"
   ]
  },
  {
   "cell_type": "code",
   "execution_count": null,
   "metadata": {},
   "outputs": [],
   "source": [
    "gsv = fp_diver.global_shapley_value()\n",
    "fp_diver.plot_shapley_value(shapley_values=gsv, figsize=(3,4), title='Global Shapley Value')"
   ]
  }
 ],
 "metadata": {
  "hide_input": false,
  "kernelspec": {
   "display_name": "mainexp",
   "language": "python",
   "name": "mainexp"
  },
  "language_info": {
   "codemirror_mode": {
    "name": "ipython",
    "version": 3
   },
   "file_extension": ".py",
   "mimetype": "text/x-python",
   "name": "python",
   "nbconvert_exporter": "python",
   "pygments_lexer": "ipython3",
   "version": "3.10.10"
  },
  "toc": {
   "base_numbering": 1,
   "nav_menu": {},
   "number_sections": true,
   "sideBar": true,
   "skip_h1_title": false,
   "title_cell": "Table of Contents",
   "title_sidebar": "Contents",
   "toc_cell": false,
   "toc_position": {
    "height": "522px",
    "left": "26px",
    "top": "109.301px",
    "width": "182px"
   },
   "toc_section_display": true,
   "toc_window_display": true
  },
  "varInspector": {
   "cols": {
    "lenName": 16,
    "lenType": 16,
    "lenVar": 40
   },
   "kernels_config": {
    "python": {
     "delete_cmd_postfix": "",
     "delete_cmd_prefix": "del ",
     "library": "var_list.py",
     "varRefreshCmd": "print(var_dic_list())"
    },
    "r": {
     "delete_cmd_postfix": ") ",
     "delete_cmd_prefix": "rm(",
     "library": "var_list.r",
     "varRefreshCmd": "cat(var_dic_list()) "
    }
   },
   "types_to_exclude": [
    "module",
    "function",
    "builtin_function_or_method",
    "instance",
    "_Feature"
   ],
   "window_display": false
  },
  "vscode": {
   "interpreter": {
    "hash": "b8f49ba703dde8e5c512d110ec05b7f6abb5a24fe5808957ee4ada9f9040f402"
   }
  }
 },
 "nbformat": 4,
 "nbformat_minor": 2
}
