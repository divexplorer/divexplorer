{
 "cells": [
  {
   "cell_type": "markdown",
   "metadata": {},
   "source": [
    "# DivExplorer analysis - Example with COMPAS dataset "
   ]
  },
  {
   "cell_type": "code",
   "execution_count": 1,
   "metadata": {},
   "outputs": [],
   "source": [
    "%load_ext autoreload\n",
    "%autoreload 2 "
   ]
  },
  {
   "cell_type": "markdown",
   "metadata": {
    "ExecuteTime": {
     "end_time": "2021-06-11T14:57:33.227374Z",
     "start_time": "2021-06-11T14:57:33.204664Z"
    }
   },
   "source": [
    "# Import dataset"
   ]
  },
  {
   "cell_type": "markdown",
   "metadata": {
    "ExecuteTime": {
     "end_time": "2021-06-11T17:27:41.995139Z",
     "start_time": "2021-06-11T17:27:41.990917Z"
    }
   },
   "source": [
    "In this running example we analyze the [COMPAS](https://www.propublica.org/article/how-we-analyzed-the-compas-recidivism-algorithm) dataset.\n",
    "\n",
    "We import an already pre-processed and discretized version. You can refer to this [notebook](www.google.com) for its pre-processing.\n",
    "\n",
    "The COMPAS dataset contains demographic information and the criminal history of defendants.\n",
    "For each criminal defendant, the following attributes are available:\n",
    "- *age_cat*: age category of the defendant. \n",
    "- *c_charge_degree*: severity of the charge. 'M'='Misdemeanor','F'='Felony' \n",
    "- *race*: 'Afr-Am', 'Asian', 'Cauc', 'Hispanic', 'Native American', 'Other'\n",
    "- *sex*: 'Female', 'Male'\n",
    "- *length_of_stay*: the days spent in jail, derived from the records of the date in which the person entered lastly the jail and the date in which the person was released.\n",
    "- *priors_count*: the number of prior crimes committed.\n",
    "\n",
    "\n",
    "For each defendant, the dataset also records:\n",
    "- the *class*, whether the defendant recidivated (was arrested again) in the next two years. It is 1 if the defendant recidivated, 0 otherwise.\n",
    "- the *predicted* recidivism, derived from the COMPAS score of recidivism risk assesses the defendant’s likelihood of committing another offense in a period of two years. It is 1 if the risk is high."
   ]
  },
  {
   "cell_type": "code",
   "execution_count": 2,
   "metadata": {},
   "outputs": [],
   "source": [
    "def get_true_positives(y_trues, y_preds, positive_value=1):\n",
    "    \"\"\"Returns true positives. True if it is a true positive, false otherwise.\"\"\"\n",
    "\n",
    "    return ((y_trues == y_preds) & (y_trues == positive_value))\n",
    "\n",
    "def get_true_negatives(y_trues, y_preds, negative_value=1):\n",
    "    \"\"\"Returns true negatives. True if it is a true negative, false otherwise.\"\"\"\n",
    "\n",
    "    return ((y_trues == y_preds) & (y_trues == negative_value))\n",
    "\n",
    "def get_false_positives(y_trues, y_preds, negative_value=1):\n",
    "    \"\"\"Returns false positives. True if it is a false positive, false otherwise.\"\"\"\n",
    "\n",
    "    return ((y_trues != y_preds) & (y_trues == negative_value))\n",
    "\n",
    "def get_false_negatives(y_trues, y_preds, positive_value=1):\n",
    "    \"\"\"Returns false negatives. True if it is a false negative, false otherwise.\"\"\"\n",
    "\n",
    "    return ((y_trues != y_preds) & (y_trues == positive_value))\n",
    "\n",
    "def get_false_positive_rate_outcome(y_trues, y_preds, negative_value=0):\n",
    "    \"\"\"Returns boolean outcome for the false positive rate. 1 if it is a false positive, 0 if it is a true negative, np.nan otherwhise.\n",
    "    \"\"\"\n",
    "    import numpy as np\n",
    "\n",
    "    fp = np.array(get_false_positives(y_trues, y_preds, negative_value=negative_value)).astype(int)\n",
    "    tn = np.array(get_true_negatives(y_trues, y_preds, negative_value=negative_value)).astype(int)\n",
    "\n",
    "    fp_outcome = np.full(fp.shape, np.nan)\n",
    "    fp_outcome[fp == 1] = 1\n",
    "    fp_outcome[tn == 1] = 0\n",
    "\n",
    "\n",
    "    return fp_outcome"
   ]
  },
  {
   "cell_type": "code",
   "execution_count": 3,
   "metadata": {},
   "outputs": [
    {
     "data": {
      "text/html": [
       "<div>\n",
       "<style scoped>\n",
       "    .dataframe tbody tr th:only-of-type {\n",
       "        vertical-align: middle;\n",
       "    }\n",
       "\n",
       "    .dataframe tbody tr th {\n",
       "        vertical-align: top;\n",
       "    }\n",
       "\n",
       "    .dataframe thead th {\n",
       "        text-align: right;\n",
       "    }\n",
       "</style>\n",
       "<table border=\"1\" class=\"dataframe\">\n",
       "  <thead>\n",
       "    <tr style=\"text-align: right;\">\n",
       "      <th></th>\n",
       "      <th>age</th>\n",
       "      <th>charge</th>\n",
       "      <th>race</th>\n",
       "      <th>sex</th>\n",
       "      <th>#prior</th>\n",
       "      <th>stay</th>\n",
       "      <th>class</th>\n",
       "      <th>predicted</th>\n",
       "    </tr>\n",
       "  </thead>\n",
       "  <tbody>\n",
       "    <tr>\n",
       "      <th>0</th>\n",
       "      <td>&gt;45</td>\n",
       "      <td>F</td>\n",
       "      <td>Other</td>\n",
       "      <td>Male</td>\n",
       "      <td>0</td>\n",
       "      <td>&lt;week</td>\n",
       "      <td>0</td>\n",
       "      <td>0</td>\n",
       "    </tr>\n",
       "    <tr>\n",
       "      <th>1</th>\n",
       "      <td>25-45</td>\n",
       "      <td>F</td>\n",
       "      <td>Afr-Am</td>\n",
       "      <td>Male</td>\n",
       "      <td>0</td>\n",
       "      <td>1w-3M</td>\n",
       "      <td>1</td>\n",
       "      <td>0</td>\n",
       "    </tr>\n",
       "    <tr>\n",
       "      <th>2</th>\n",
       "      <td>&lt;25</td>\n",
       "      <td>F</td>\n",
       "      <td>Afr-Am</td>\n",
       "      <td>Male</td>\n",
       "      <td>&gt;3</td>\n",
       "      <td>&lt;week</td>\n",
       "      <td>1</td>\n",
       "      <td>0</td>\n",
       "    </tr>\n",
       "    <tr>\n",
       "      <th>3</th>\n",
       "      <td>25-45</td>\n",
       "      <td>M</td>\n",
       "      <td>Other</td>\n",
       "      <td>Male</td>\n",
       "      <td>0</td>\n",
       "      <td>&lt;week</td>\n",
       "      <td>0</td>\n",
       "      <td>0</td>\n",
       "    </tr>\n",
       "    <tr>\n",
       "      <th>4</th>\n",
       "      <td>25-45</td>\n",
       "      <td>F</td>\n",
       "      <td>Cauc</td>\n",
       "      <td>Male</td>\n",
       "      <td>&gt;3</td>\n",
       "      <td>&lt;week</td>\n",
       "      <td>1</td>\n",
       "      <td>0</td>\n",
       "    </tr>\n",
       "  </tbody>\n",
       "</table>\n",
       "</div>"
      ],
      "text/plain": [
       "     age charge    race   sex #prior   stay  class  predicted\n",
       "0    >45      F   Other  Male      0  <week      0          0\n",
       "1  25-45      F  Afr-Am  Male      0  1w-3M      1          0\n",
       "2    <25      F  Afr-Am  Male     >3  <week      1          0\n",
       "3  25-45      M   Other  Male      0  <week      0          0\n",
       "4  25-45      F    Cauc  Male     >3  <week      1          0"
      ]
     },
     "execution_count": 3,
     "metadata": {},
     "output_type": "execute_result"
    }
   ],
   "source": [
    "import os\n",
    "inputDir=os.path.join(\".\", \"notebooks\", \"datasets\")\n",
    "\n",
    "import pandas as pd\n",
    "df = pd.read_csv(os.path.join(inputDir, \"compas_discretized.csv\"))\n",
    "df.head()"
   ]
  },
  {
   "cell_type": "code",
   "execution_count": 4,
   "metadata": {},
   "outputs": [],
   "source": [
    "y_trues = df[\"class\"].values\n",
    "y_preds = df[\"predicted\"].values"
   ]
  },
  {
   "cell_type": "code",
   "execution_count": 5,
   "metadata": {},
   "outputs": [],
   "source": [
    "df['fpr_outcome'] =  get_false_positive_rate_outcome(y_trues, y_preds, negative_value=0)"
   ]
  },
  {
   "cell_type": "code",
   "execution_count": 6,
   "metadata": {},
   "outputs": [],
   "source": [
    "df = df.drop(columns=['class', 'predicted'])  "
   ]
  },
  {
   "cell_type": "markdown",
   "metadata": {},
   "source": [
    "# Compute pattern divergence"
   ]
  },
  {
   "cell_type": "markdown",
   "metadata": {},
   "source": [
    "With DivExplorer, we can compute the the performance metrics and the divergence scores of *all* itemsets whose frequency in the dataset is above a minimum frequency threshold (min_sup)."
   ]
  },
  {
   "cell_type": "code",
   "execution_count": 7,
   "metadata": {},
   "outputs": [
    {
     "data": {
      "text/html": [
       "<div>\n",
       "<style scoped>\n",
       "    .dataframe tbody tr th:only-of-type {\n",
       "        vertical-align: middle;\n",
       "    }\n",
       "\n",
       "    .dataframe tbody tr th {\n",
       "        vertical-align: top;\n",
       "    }\n",
       "\n",
       "    .dataframe thead th {\n",
       "        text-align: right;\n",
       "    }\n",
       "</style>\n",
       "<table border=\"1\" class=\"dataframe\">\n",
       "  <thead>\n",
       "    <tr style=\"text-align: right;\">\n",
       "      <th></th>\n",
       "      <th>support</th>\n",
       "      <th>itemsets</th>\n",
       "      <th>fpr_outcome</th>\n",
       "      <th>fpr_outcome_div</th>\n",
       "      <th>fpr_outcome_t</th>\n",
       "      <th>length</th>\n",
       "      <th>support_count</th>\n",
       "    </tr>\n",
       "  </thead>\n",
       "  <tbody>\n",
       "    <tr>\n",
       "      <th>0</th>\n",
       "      <td>1.000000</td>\n",
       "      <td>()</td>\n",
       "      <td>0.088314</td>\n",
       "      <td>0.000000</td>\n",
       "      <td>0.000000</td>\n",
       "      <td>0</td>\n",
       "      <td>6172.0</td>\n",
       "    </tr>\n",
       "    <tr>\n",
       "      <th>1</th>\n",
       "      <td>0.809624</td>\n",
       "      <td>(sex=Male)</td>\n",
       "      <td>0.093810</td>\n",
       "      <td>0.005496</td>\n",
       "      <td>0.738697</td>\n",
       "      <td>1</td>\n",
       "      <td>4997.0</td>\n",
       "    </tr>\n",
       "    <tr>\n",
       "      <th>2</th>\n",
       "      <td>0.772683</td>\n",
       "      <td>(stay=&lt;week)</td>\n",
       "      <td>0.072043</td>\n",
       "      <td>-0.016271</td>\n",
       "      <td>2.339352</td>\n",
       "      <td>1</td>\n",
       "      <td>4769.0</td>\n",
       "    </tr>\n",
       "    <tr>\n",
       "      <th>3</th>\n",
       "      <td>0.643227</td>\n",
       "      <td>(charge=F)</td>\n",
       "      <td>0.107754</td>\n",
       "      <td>0.019440</td>\n",
       "      <td>2.301183</td>\n",
       "      <td>1</td>\n",
       "      <td>3970.0</td>\n",
       "    </tr>\n",
       "    <tr>\n",
       "      <th>4</th>\n",
       "      <td>0.614226</td>\n",
       "      <td>(sex=Male, stay=&lt;week)</td>\n",
       "      <td>0.076379</td>\n",
       "      <td>-0.011935</td>\n",
       "      <td>1.555571</td>\n",
       "      <td>2</td>\n",
       "      <td>3791.0</td>\n",
       "    </tr>\n",
       "    <tr>\n",
       "      <th>5</th>\n",
       "      <td>0.572262</td>\n",
       "      <td>(age=25-45)</td>\n",
       "      <td>0.088842</td>\n",
       "      <td>0.000528</td>\n",
       "      <td>0.087728</td>\n",
       "      <td>1</td>\n",
       "      <td>3532.0</td>\n",
       "    </tr>\n",
       "    <tr>\n",
       "      <th>6</th>\n",
       "      <td>0.532404</td>\n",
       "      <td>(charge=F, sex=Male)</td>\n",
       "      <td>0.111041</td>\n",
       "      <td>0.022727</td>\n",
       "      <td>2.471729</td>\n",
       "      <td>2</td>\n",
       "      <td>3286.0</td>\n",
       "    </tr>\n",
       "    <tr>\n",
       "      <th>7</th>\n",
       "      <td>0.514420</td>\n",
       "      <td>(race=Afr-Am)</td>\n",
       "      <td>0.139366</td>\n",
       "      <td>0.051052</td>\n",
       "      <td>5.046409</td>\n",
       "      <td>1</td>\n",
       "      <td>3175.0</td>\n",
       "    </tr>\n",
       "    <tr>\n",
       "      <th>8</th>\n",
       "      <td>0.471484</td>\n",
       "      <td>(charge=F, stay=&lt;week)</td>\n",
       "      <td>0.088179</td>\n",
       "      <td>-0.000135</td>\n",
       "      <td>0.016780</td>\n",
       "      <td>2</td>\n",
       "      <td>2910.0</td>\n",
       "    </tr>\n",
       "    <tr>\n",
       "      <th>9</th>\n",
       "      <td>0.460629</td>\n",
       "      <td>(sex=Male, age=25-45)</td>\n",
       "      <td>0.096377</td>\n",
       "      <td>0.008063</td>\n",
       "      <td>0.914899</td>\n",
       "      <td>2</td>\n",
       "      <td>2843.0</td>\n",
       "    </tr>\n",
       "  </tbody>\n",
       "</table>\n",
       "</div>"
      ],
      "text/plain": [
       "    support                itemsets  fpr_outcome  fpr_outcome_div   \n",
       "0  1.000000                      ()     0.088314         0.000000  \\\n",
       "1  0.809624              (sex=Male)     0.093810         0.005496   \n",
       "2  0.772683            (stay=<week)     0.072043        -0.016271   \n",
       "3  0.643227              (charge=F)     0.107754         0.019440   \n",
       "4  0.614226  (sex=Male, stay=<week)     0.076379        -0.011935   \n",
       "5  0.572262             (age=25-45)     0.088842         0.000528   \n",
       "6  0.532404    (charge=F, sex=Male)     0.111041         0.022727   \n",
       "7  0.514420           (race=Afr-Am)     0.139366         0.051052   \n",
       "8  0.471484  (charge=F, stay=<week)     0.088179        -0.000135   \n",
       "9  0.460629   (sex=Male, age=25-45)     0.096377         0.008063   \n",
       "\n",
       "   fpr_outcome_t  length  support_count  \n",
       "0       0.000000       0         6172.0  \n",
       "1       0.738697       1         4997.0  \n",
       "2       2.339352       1         4769.0  \n",
       "3       2.301183       1         3970.0  \n",
       "4       1.555571       2         3791.0  \n",
       "5       0.087728       1         3532.0  \n",
       "6       2.471729       2         3286.0  \n",
       "7       5.046409       1         3175.0  \n",
       "8       0.016780       2         2910.0  \n",
       "9       0.914899       2         2843.0  "
      ]
     },
     "execution_count": 7,
     "metadata": {},
     "output_type": "execute_result"
    }
   ],
   "source": [
    "from divexplorer.divexplorer import DivergenceExplorer\n",
    "\n",
    "min_sup = 0.1\n",
    "fp_diver = DivergenceExplorer(\n",
    "    df)\n",
    "FP_fm = fp_diver.get_pattern_divergence(min_support=min_sup, boolean_outcomes = ['fpr_outcome'], show_coincise = True)\n",
    "FP_fm.sort_values(by=\"support\", ascending=False).head(10)"
   ]
  },
  {
   "cell_type": "code",
   "execution_count": 8,
   "metadata": {},
   "outputs": [
    {
     "name": "stdout",
     "output_type": "stream",
     "text": [
      "frozenset({'#prior=[1,3]', 'stay=<week'})\n"
     ]
    },
    {
     "data": {
      "text/plain": [
       "{frozenset({'#prior=[1,3]'}): -0.014328073142832076,\n",
       " frozenset({'stay=<week'}): -0.01534083615290903}"
      ]
     },
     "execution_count": 8,
     "metadata": {},
     "output_type": "execute_result"
    }
   ],
   "source": [
    "from divexplorer.pattern_processor import DivergencePatternProcessor\n",
    "\n",
    "fp_diver = DivergencePatternProcessor(FP_fm, 'fpr_outcome')\n",
    "\n",
    "pattern = fp_diver.patterns['itemsets'].iloc[30]\n",
    "print(pattern)\n",
    "\n",
    "sv = fp_diver.shapley_value(pattern)\n",
    "sv"
   ]
  },
  {
   "cell_type": "code",
   "execution_count": 9,
   "metadata": {},
   "outputs": [
    {
     "data": {
      "text/plain": [
       "<BarContainer object of 2 artists>"
      ]
     },
     "execution_count": 9,
     "metadata": {},
     "output_type": "execute_result"
    },
    {
     "data": {
      "image/png": "[encoded data removed]",
      "text/plain": [
       "<Figure size 400x300 with 1 Axes>"
      ]
     },
     "metadata": {},
     "output_type": "display_data"
    }
   ],
   "source": [
    "import matplotlib.pyplot as plt\n",
    "\n",
    "fig, ax = plt.subplots(1, 1, figsize=(4,3), dpi=100)\n",
    "\n",
    "shapleyv_plot = {str(\",\".join(list(k))): v for k, v in sv.items()}\n",
    "\n",
    "shapleyv_plot = {\n",
    "    k: v for k, v in sorted(shapleyv_plot.items(), key=lambda item: item[1])\n",
    "}\n",
    "\n",
    "ax.barh(\n",
    "    range(len(shapleyv_plot)),\n",
    "    shapleyv_plot.values(),\n",
    "    height=0.5,\n",
    "    align=\"center\",\n",
    "    color=\"#7CBACB\",\n",
    "    linewidth=0.8,\n",
    "    edgecolor=\"#0C4A5B\",\n",
    ")"
   ]
  },
  {
   "cell_type": "code",
   "execution_count": 10,
   "metadata": {},
   "outputs": [
    {
     "data": {
      "image/png": "[encoded data removed]",
      "text/plain": [
       "<Figure size 200x200 with 1 Axes>"
      ]
     },
     "metadata": {},
     "output_type": "display_data"
    }
   ],
   "source": [
    "fp_diver.plot_shapley_value(pattern = pattern, figsize=(2,2))"
   ]
  },
  {
   "cell_type": "code",
   "execution_count": 35,
   "metadata": {},
   "outputs": [
    {
     "data": {
      "text/html": [
       "<div>\n",
       "<style scoped>\n",
       "    .dataframe tbody tr th:only-of-type {\n",
       "        vertical-align: middle;\n",
       "    }\n",
       "\n",
       "    .dataframe tbody tr th {\n",
       "        vertical-align: top;\n",
       "    }\n",
       "\n",
       "    .dataframe thead th {\n",
       "        text-align: right;\n",
       "    }\n",
       "</style>\n",
       "<table border=\"1\" class=\"dataframe\">\n",
       "  <thead>\n",
       "    <tr style=\"text-align: right;\">\n",
       "      <th></th>\n",
       "      <th>support</th>\n",
       "      <th>itemsets</th>\n",
       "      <th>length</th>\n",
       "      <th>support_count</th>\n",
       "      <th>fpr_outcome</th>\n",
       "      <th>fpr_outcome_div</th>\n",
       "      <th>fpr_outcome_t</th>\n",
       "    </tr>\n",
       "  </thead>\n",
       "  <tbody>\n",
       "    <tr>\n",
       "      <th>0</th>\n",
       "      <td>1.000000</td>\n",
       "      <td>()</td>\n",
       "      <td>0</td>\n",
       "      <td>6172.0</td>\n",
       "      <td>0.088314</td>\n",
       "      <td>0.000000</td>\n",
       "      <td>0.000000</td>\n",
       "    </tr>\n",
       "    <tr>\n",
       "      <th>7</th>\n",
       "      <td>0.514420</td>\n",
       "      <td>(race=Afr-Am)</td>\n",
       "      <td>1</td>\n",
       "      <td>3175.0</td>\n",
       "      <td>0.139366</td>\n",
       "      <td>0.051052</td>\n",
       "      <td>5.046409</td>\n",
       "    </tr>\n",
       "    <tr>\n",
       "      <th>28</th>\n",
       "      <td>0.293422</td>\n",
       "      <td>(#prior=&gt;3)</td>\n",
       "      <td>1</td>\n",
       "      <td>1811.0</td>\n",
       "      <td>0.219269</td>\n",
       "      <td>0.130955</td>\n",
       "      <td>7.503321</td>\n",
       "    </tr>\n",
       "    <tr>\n",
       "      <th>44</th>\n",
       "      <td>0.218244</td>\n",
       "      <td>(age=&lt;25)</td>\n",
       "      <td>1</td>\n",
       "      <td>1347.0</td>\n",
       "      <td>0.177066</td>\n",
       "      <td>0.088752</td>\n",
       "      <td>5.456070</td>\n",
       "    </tr>\n",
       "    <tr>\n",
       "      <th>47</th>\n",
       "      <td>0.209494</td>\n",
       "      <td>(age=&gt;45)</td>\n",
       "      <td>1</td>\n",
       "      <td>1293.0</td>\n",
       "      <td>0.027304</td>\n",
       "      <td>-0.061010</td>\n",
       "      <td>8.097262</td>\n",
       "    </tr>\n",
       "    <tr>\n",
       "      <th>65</th>\n",
       "      <td>0.177090</td>\n",
       "      <td>(stay=1w-3M)</td>\n",
       "      <td>1</td>\n",
       "      <td>1093.0</td>\n",
       "      <td>0.151786</td>\n",
       "      <td>0.063472</td>\n",
       "      <td>3.668118</td>\n",
       "    </tr>\n",
       "  </tbody>\n",
       "</table>\n",
       "</div>"
      ],
      "text/plain": [
       "     support       itemsets  length  support_count  fpr_outcome   \n",
       "0   1.000000             ()       0         6172.0     0.088314  \\\n",
       "7   0.514420  (race=Afr-Am)       1         3175.0     0.139366   \n",
       "28  0.293422    (#prior=>3)       1         1811.0     0.219269   \n",
       "44  0.218244      (age=<25)       1         1347.0     0.177066   \n",
       "47  0.209494      (age=>45)       1         1293.0     0.027304   \n",
       "65  0.177090   (stay=1w-3M)       1         1093.0     0.151786   \n",
       "\n",
       "    fpr_outcome_div  fpr_outcome_t  \n",
       "0          0.000000       0.000000  \n",
       "7          0.051052       5.046409  \n",
       "28         0.130955       7.503321  \n",
       "44         0.088752       5.456070  \n",
       "47        -0.061010       8.097262  \n",
       "65         0.063472       3.668118  "
      ]
     },
     "execution_count": 35,
     "metadata": {},
     "output_type": "execute_result"
    }
   ],
   "source": [
    "fp_diver.redundancy_pruning(th_redundancy=0.05)"
   ]
  },
  {
   "cell_type": "code",
   "execution_count": 38,
   "metadata": {},
   "outputs": [],
   "source": [
    "fp_diver.dict_len_pattern_divergence"
   ]
  },
  {
   "cell_type": "markdown",
   "metadata": {},
   "source": [
    "## Quantitative "
   ]
  },
  {
   "cell_type": "code",
   "execution_count": 107,
   "metadata": {},
   "outputs": [],
   "source": [
    "import os\n",
    "import numpy as np\n",
    "\n",
    "inputDir=os.path.join(\".\", \"notebooks\", \"datasets\")\n",
    "\n",
    "import pandas as pd\n",
    "df= pd.read_csv(os.path.join(inputDir, \"compas_discretized.csv\"))\n",
    "\n",
    "df['score'] = [np.random.uniform() for i in range(len(df))]\n",
    "df.drop(columns=['class', 'predicted'], inplace=True)"
   ]
  },
  {
   "cell_type": "code",
   "execution_count": 108,
   "metadata": {},
   "outputs": [
    {
     "data": {
      "text/html": [
       "<div>\n",
       "<style scoped>\n",
       "    .dataframe tbody tr th:only-of-type {\n",
       "        vertical-align: middle;\n",
       "    }\n",
       "\n",
       "    .dataframe tbody tr th {\n",
       "        vertical-align: top;\n",
       "    }\n",
       "\n",
       "    .dataframe thead th {\n",
       "        text-align: right;\n",
       "    }\n",
       "</style>\n",
       "<table border=\"1\" class=\"dataframe\">\n",
       "  <thead>\n",
       "    <tr style=\"text-align: right;\">\n",
       "      <th></th>\n",
       "      <th>support</th>\n",
       "      <th>itemsets</th>\n",
       "      <th>score</th>\n",
       "      <th>score_SQUARED</th>\n",
       "      <th>score_div</th>\n",
       "      <th>score_t</th>\n",
       "      <th>length</th>\n",
       "      <th>support_count</th>\n",
       "    </tr>\n",
       "  </thead>\n",
       "  <tbody>\n",
       "    <tr>\n",
       "      <th>0</th>\n",
       "      <td>1.000000</td>\n",
       "      <td>()</td>\n",
       "      <td>0.496463</td>\n",
       "      <td>2038.623380</td>\n",
       "      <td>0.000000</td>\n",
       "      <td>0.000000</td>\n",
       "      <td>0</td>\n",
       "      <td>6172.0</td>\n",
       "    </tr>\n",
       "    <tr>\n",
       "      <th>1</th>\n",
       "      <td>0.809624</td>\n",
       "      <td>(sex=Male)</td>\n",
       "      <td>0.497202</td>\n",
       "      <td>1653.895029</td>\n",
       "      <td>0.000739</td>\n",
       "      <td>0.134217</td>\n",
       "      <td>1</td>\n",
       "      <td>4997.0</td>\n",
       "    </tr>\n",
       "    <tr>\n",
       "      <th>2</th>\n",
       "      <td>0.772683</td>\n",
       "      <td>(stay=&lt;week)</td>\n",
       "      <td>0.496247</td>\n",
       "      <td>1571.326790</td>\n",
       "      <td>-0.000216</td>\n",
       "      <td>0.038753</td>\n",
       "      <td>1</td>\n",
       "      <td>4769.0</td>\n",
       "    </tr>\n",
       "    <tr>\n",
       "      <th>3</th>\n",
       "      <td>0.643227</td>\n",
       "      <td>(charge=F)</td>\n",
       "      <td>0.498284</td>\n",
       "      <td>1323.414146</td>\n",
       "      <td>0.001822</td>\n",
       "      <td>0.307882</td>\n",
       "      <td>1</td>\n",
       "      <td>3970.0</td>\n",
       "    </tr>\n",
       "    <tr>\n",
       "      <th>4</th>\n",
       "      <td>0.614226</td>\n",
       "      <td>(stay=&lt;week, sex=Male)</td>\n",
       "      <td>0.498384</td>\n",
       "      <td>1257.292226</td>\n",
       "      <td>0.001922</td>\n",
       "      <td>0.322309</td>\n",
       "      <td>2</td>\n",
       "      <td>3791.0</td>\n",
       "    </tr>\n",
       "    <tr>\n",
       "      <th>5</th>\n",
       "      <td>0.572262</td>\n",
       "      <td>(age=25-45)</td>\n",
       "      <td>0.495080</td>\n",
       "      <td>1158.642115</td>\n",
       "      <td>-0.001383</td>\n",
       "      <td>0.227105</td>\n",
       "      <td>1</td>\n",
       "      <td>3532.0</td>\n",
       "    </tr>\n",
       "    <tr>\n",
       "      <th>6</th>\n",
       "      <td>0.532404</td>\n",
       "      <td>(sex=Male, charge=F)</td>\n",
       "      <td>0.498657</td>\n",
       "      <td>1097.073096</td>\n",
       "      <td>0.002194</td>\n",
       "      <td>0.349080</td>\n",
       "      <td>2</td>\n",
       "      <td>3286.0</td>\n",
       "    </tr>\n",
       "    <tr>\n",
       "      <th>7</th>\n",
       "      <td>0.514420</td>\n",
       "      <td>(race=Afr-Am)</td>\n",
       "      <td>0.501779</td>\n",
       "      <td>1066.935690</td>\n",
       "      <td>0.005316</td>\n",
       "      <td>0.839310</td>\n",
       "      <td>1</td>\n",
       "      <td>3175.0</td>\n",
       "    </tr>\n",
       "    <tr>\n",
       "      <th>8</th>\n",
       "      <td>0.471484</td>\n",
       "      <td>(stay=&lt;week, charge=F)</td>\n",
       "      <td>0.497400</td>\n",
       "      <td>966.062693</td>\n",
       "      <td>0.000938</td>\n",
       "      <td>0.143576</td>\n",
       "      <td>2</td>\n",
       "      <td>2910.0</td>\n",
       "    </tr>\n",
       "    <tr>\n",
       "      <th>9</th>\n",
       "      <td>0.460629</td>\n",
       "      <td>(sex=Male, age=25-45)</td>\n",
       "      <td>0.496290</td>\n",
       "      <td>936.495267</td>\n",
       "      <td>-0.000173</td>\n",
       "      <td>0.026424</td>\n",
       "      <td>2</td>\n",
       "      <td>2843.0</td>\n",
       "    </tr>\n",
       "  </tbody>\n",
       "</table>\n",
       "</div>"
      ],
      "text/plain": [
       "    support                itemsets     score  score_SQUARED  score_div   \n",
       "0  1.000000                      ()  0.496463    2038.623380   0.000000  \\\n",
       "1  0.809624              (sex=Male)  0.497202    1653.895029   0.000739   \n",
       "2  0.772683            (stay=<week)  0.496247    1571.326790  -0.000216   \n",
       "3  0.643227              (charge=F)  0.498284    1323.414146   0.001822   \n",
       "4  0.614226  (stay=<week, sex=Male)  0.498384    1257.292226   0.001922   \n",
       "5  0.572262             (age=25-45)  0.495080    1158.642115  -0.001383   \n",
       "6  0.532404    (sex=Male, charge=F)  0.498657    1097.073096   0.002194   \n",
       "7  0.514420           (race=Afr-Am)  0.501779    1066.935690   0.005316   \n",
       "8  0.471484  (stay=<week, charge=F)  0.497400     966.062693   0.000938   \n",
       "9  0.460629   (sex=Male, age=25-45)  0.496290     936.495267  -0.000173   \n",
       "\n",
       "    score_t  length  support_count  \n",
       "0  0.000000       0         6172.0  \n",
       "1  0.134217       1         4997.0  \n",
       "2  0.038753       1         4769.0  \n",
       "3  0.307882       1         3970.0  \n",
       "4  0.322309       2         3791.0  \n",
       "5  0.227105       1         3532.0  \n",
       "6  0.349080       2         3286.0  \n",
       "7  0.839310       1         3175.0  \n",
       "8  0.143576       2         2910.0  \n",
       "9  0.026424       2         2843.0  "
      ]
     },
     "execution_count": 108,
     "metadata": {},
     "output_type": "execute_result"
    }
   ],
   "source": [
    "from divexplorer.divexplorer import DivergenceExplorer\n",
    "\n",
    "min_sup = 0.1\n",
    "fp_diver = DivergenceExplorer(\n",
    "    df)\n",
    "FP_fm = fp_diver.get_pattern_divergence(min_support=min_sup, quantitative_outcomes = ['score'], show_coincise = True)\n",
    "FP_fm.sort_values(by=\"support\", ascending=False).head(10)"
   ]
  },
  {
   "cell_type": "code",
   "execution_count": null,
   "metadata": {},
   "outputs": [],
   "source": []
  }
 ],
 "metadata": {
  "hide_input": false,
  "kernelspec": {
   "display_name": "mainexp",
   "language": "python",
   "name": "mainexp"
  },
  "language_info": {
   "codemirror_mode": {
    "name": "ipython",
    "version": 3
   },
   "file_extension": ".py",
   "mimetype": "text/x-python",
   "name": "python",
   "nbconvert_exporter": "python",
   "pygments_lexer": "ipython3",
   "version": "3.10.10"
  },
  "toc": {
   "base_numbering": 1,
   "nav_menu": {},
   "number_sections": true,
   "sideBar": true,
   "skip_h1_title": false,
   "title_cell": "Table of Contents",
   "title_sidebar": "Contents",
   "toc_cell": false,
   "toc_position": {
    "height": "522px",
    "left": "26px",
    "top": "109.301px",
    "width": "182px"
   },
   "toc_section_display": true,
   "toc_window_display": true
  },
  "varInspector": {
   "cols": {
    "lenName": 16,
    "lenType": 16,
    "lenVar": 40
   },
   "kernels_config": {
    "python": {
     "delete_cmd_postfix": "",
     "delete_cmd_prefix": "del ",
     "library": "var_list.py",
     "varRefreshCmd": "print(var_dic_list())"
    },
    "r": {
     "delete_cmd_postfix": ") ",
     "delete_cmd_prefix": "rm(",
     "library": "var_list.r",
     "varRefreshCmd": "cat(var_dic_list()) "
    }
   },
   "types_to_exclude": [
    "module",
    "function",
    "builtin_function_or_method",
    "instance",
    "_Feature"
   ],
   "window_display": false
  },
  "vscode": {
   "interpreter": {
    "hash": "b8f49ba703dde8e5c512d110ec05b7f6abb5a24fe5808957ee4ada9f9040f402"
   }
  }
 },
 "nbformat": 4,
 "nbformat_minor": 2
}
